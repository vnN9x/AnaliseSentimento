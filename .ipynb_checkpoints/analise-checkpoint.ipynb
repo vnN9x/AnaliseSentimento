{
 "cells": [
  {
   "cell_type": "code",
   "execution_count": 48,
   "id": "32011d5a-49bd-4fb5-9223-4585bbf7d941",
   "metadata": {},
   "outputs": [],
   "source": [
    "import pandas as pd\n",
    "import numpy as np\n",
    "import matplotlib.pyplot as plt\n",
    "import seaborn as sns\n",
    "import nltk\n",
    "from sklearn.feature_extraction.text import CountVectorizer\n",
    "from sklearn.naive_bayes import MultinomialNB\n",
    "from sklearn import metrics\n",
    "from sklearn.model_selection import cross_val_predict"
   ]
  },
  {
   "cell_type": "markdown",
   "id": "9581784d-aa3e-4220-bb18-4c870743c1c3",
   "metadata": {},
   "source": [
    "## Lendo os dados que foram obtidos por script python através de scrapping"
   ]
  },
  {
   "cell_type": "code",
   "execution_count": 56,
   "id": "6d4612ca-fc81-463b-94bd-dff2ef850388",
   "metadata": {},
   "outputs": [],
   "source": [
    "df = pd.read_csv('./data/others/querobolsa.csv')"
   ]
  },
  {
   "cell_type": "markdown",
   "id": "a6990d16-6f2f-41c9-9343-c1e01aab6453",
   "metadata": {},
   "source": [
    "# Aqui é um exemplo pequeno de como funciona o nosso DataFrame (Tabela)\n",
    "\n",
    "## Unammed: 0 é a coluna que atribui um id automatico e auto incremental para cada linha\n",
    "## author: representa o nome de quem escreveu a avaliação no site\n",
    "## text: uma concatenação do texto de pros e contras\n",
    "## rating: Classificação de impressão positiva ou negativa do usuário em relação a universidade, baseada na nota da plataforma.\n",
    "\n",
    "### Se a nota na plataforma for maior que 3, então é Positivo. Se for menor ou igual a 2, então Negativo. Se estiver entre esses valores, então a nota é Neutro."
   ]
  },
  {
   "cell_type": "code",
   "execution_count": 57,
   "id": "f231b4ea-1245-49e2-a018-a8e540b3e822",
   "metadata": {},
   "outputs": [
    {
     "data": {
      "text/html": [
       "<div>\n",
       "<style scoped>\n",
       "    .dataframe tbody tr th:only-of-type {\n",
       "        vertical-align: middle;\n",
       "    }\n",
       "\n",
       "    .dataframe tbody tr th {\n",
       "        vertical-align: top;\n",
       "    }\n",
       "\n",
       "    .dataframe thead th {\n",
       "        text-align: right;\n",
       "    }\n",
       "</style>\n",
       "<table border=\"1\" class=\"dataframe\">\n",
       "  <thead>\n",
       "    <tr style=\"text-align: right;\">\n",
       "      <th></th>\n",
       "      <th>Unnamed: 0</th>\n",
       "      <th>author</th>\n",
       "      <th>text</th>\n",
       "      <th>rating</th>\n",
       "    </tr>\n",
       "  </thead>\n",
       "  <tbody>\n",
       "    <tr>\n",
       "      <th>0</th>\n",
       "      <td>0</td>\n",
       "      <td>Miqueias Melo</td>\n",
       "      <td>Começando pela estrutura que é muito positiva,...</td>\n",
       "      <td>Positivo</td>\n",
       "    </tr>\n",
       "    <tr>\n",
       "      <th>1</th>\n",
       "      <td>1</td>\n",
       "      <td>Rubem Santos</td>\n",
       "      <td>A faculdade tem muitos pontos positivos sim. A...</td>\n",
       "      <td>Positivo</td>\n",
       "    </tr>\n",
       "    <tr>\n",
       "      <th>2</th>\n",
       "      <td>2</td>\n",
       "      <td>Sthefanny Andrade</td>\n",
       "      <td>A estrutura do prédio é boa, o local é seguro ...</td>\n",
       "      <td>Positivo</td>\n",
       "    </tr>\n",
       "    <tr>\n",
       "      <th>3</th>\n",
       "      <td>3</td>\n",
       "      <td>Gleidson Barbosa</td>\n",
       "      <td>Salas espaçosas, no geral. algumas um pouco me...</td>\n",
       "      <td>Positivo</td>\n",
       "    </tr>\n",
       "    <tr>\n",
       "      <th>4</th>\n",
       "      <td>4</td>\n",
       "      <td>Luana Silva</td>\n",
       "      <td>Faculdade com uma boa infraestrutura! excelent...</td>\n",
       "      <td>Positivo</td>\n",
       "    </tr>\n",
       "  </tbody>\n",
       "</table>\n",
       "</div>"
      ],
      "text/plain": [
       "   Unnamed: 0             author  \\\n",
       "0           0      Miqueias Melo   \n",
       "1           1       Rubem Santos   \n",
       "2           2  Sthefanny Andrade   \n",
       "3           3   Gleidson Barbosa   \n",
       "4           4        Luana Silva   \n",
       "\n",
       "                                                text    rating  \n",
       "0  Começando pela estrutura que é muito positiva,...  Positivo  \n",
       "1  A faculdade tem muitos pontos positivos sim. A...  Positivo  \n",
       "2  A estrutura do prédio é boa, o local é seguro ...  Positivo  \n",
       "3  Salas espaçosas, no geral. algumas um pouco me...  Positivo  \n",
       "4  Faculdade com uma boa infraestrutura! excelent...  Positivo  "
      ]
     },
     "execution_count": 57,
     "metadata": {},
     "output_type": "execute_result"
    }
   ],
   "source": [
    "df.head()"
   ]
  },
  {
   "cell_type": "code",
   "execution_count": 36,
   "id": "9b6b5b6d-cabe-4165-9a4d-da66488e5aea",
   "metadata": {},
   "outputs": [
    {
     "data": {
      "text/plain": [
       "Unnamed: 0    43\n",
       "author        43\n",
       "text          43\n",
       "rating        43\n",
       "dtype: int64"
      ]
     },
     "execution_count": 36,
     "metadata": {},
     "output_type": "execute_result"
    }
   ],
   "source": [
    "df[df.rating=='Neutro'].count()"
   ]
  },
  {
   "cell_type": "code",
   "execution_count": 37,
   "id": "8735ca61-f37c-45e1-bd4f-867c5b95595e",
   "metadata": {},
   "outputs": [
    {
     "data": {
      "text/plain": [
       "Unnamed: 0    957\n",
       "author        957\n",
       "text          957\n",
       "rating        957\n",
       "dtype: int64"
      ]
     },
     "execution_count": 37,
     "metadata": {},
     "output_type": "execute_result"
    }
   ],
   "source": [
    "df[df.rating=='Positivo'].count()"
   ]
  },
  {
   "cell_type": "code",
   "execution_count": 38,
   "id": "39629fc1-a026-4bfd-baaf-261db2437d03",
   "metadata": {},
   "outputs": [
    {
     "data": {
      "text/plain": [
       "Unnamed: 0    10\n",
       "author        10\n",
       "text          10\n",
       "rating        10\n",
       "dtype: int64"
      ]
     },
     "execution_count": 38,
     "metadata": {},
     "output_type": "execute_result"
    }
   ],
   "source": [
    "df[df.rating=='Negativo'].count()"
   ]
  },
  {
   "cell_type": "code",
   "execution_count": 58,
   "id": "db27975e-0276-430c-b28b-634dce7ed84b",
   "metadata": {},
   "outputs": [],
   "source": [
    "texto = df['text'].values\n",
    "classificacao = df['rating'].values"
   ]
  },
  {
   "cell_type": "markdown",
   "id": "2b361376-e94b-4d14-a0fa-e656b32486b4",
   "metadata": {},
   "source": [
    "# Bag of Words (BoW) - Processo de Vetorização\r\n",
    "\r\n",
    "## 1. Tokenização:\r\n",
    "\r\n",
    "O primeiro passo é dividir o texto em unidades menores chamadas \"tokens\". Em BoW, os tokens geralmente são palavras, mas podem ser n-gramas ou até mesmo caracteres, dependendo da granularidade desejada.\r\n",
    "\r\n",
    "**Exemplo:**\r\n",
    "\r\n",
    "Texto: \"A análise de sentimentos é uma parte interessante do processamento de linguagem natural.\"\r\n",
    "\r\n",
    "Tokens: [\"A\", \"análise\", \"de\", \"sentimentos\", \"é\", \"uma\", \"parte\", \"interessante\", \"do\", \"processamento\", \"de\", \"linguagem\", \"natural\"]\r\n",
    "\r\n",
    "\r\n",
    "## 2. Construção do Vocabulário:\r\n",
    "\r\n",
    "Em seguida, cria-se um vocabulário único a partir de todos os tokens encontrados no corpus (conjunto de documentos). Cada palavra única no vocabulário recebe um índice único.\r\n",
    "\r\n",
    "**Exemplo:**\r\n",
    "\r\n",
    "Vocabulário: {\"A\": 0, \"análise\": 1, \"de\": 2, \"sentimentos\": 3, \"é\": 4, \"uma\": 5, \"parte\": 6, \"interessante\": 7, \"do\": 8, \"processamento\": 9, \"linguagem\": 10, \"natural\":11}\r\n",
    "\r\n",
    "## 3. Contagem de Ocorrências:\r\n",
    "\r\n",
    "Para cada documento, conta-se quantas vezes cada palavra do vocabulário aparece no documento. Essa contagem é armazenada em um vetor\r\n",
    "\r\n",
    "**Exemplo:**\r\n",
    "\r\n",
    "Vetor do Documento: [1, 1, 2, 1, 1, 1, 1, 1, 1, 1, 1, 1]\r\n",
    "\r\n",
    "Este vetor representa a contagem de ocorrências de cada palavra no documento em relação ao vocabulário.\r\n",
    "\r\n",
    "## 4. Vetorização Final:\r\n",
    "\r\n",
    "O conjunto de vetores resultante, um para cada documento, forma a representação final do BoW para o corpus.\r\n",
    "\r\n",
    "**Exemplo (Dois Documentos):**\r\n",
    "\r\n",
    "Documento 1: [1, 2, 1, 1, 1, 1, 1, 1, 1, 1, 1]\r\n",
    "Documento 2: [0, 2, 1, 0, 2, 1, 0, 1, 0, 2, 1, 1]\r\n",
    "\r\n",
    "Cada posição no vetor representa a contagem de ocorrências de uma palavra específica no documento.\r\n",
    "\r\n",
    "## Considerações Finais:\r\n",
    "\r\n",
    "- BoW perde a ordem das palavras e considera apenas a presença ou ausência delas.\r\n",
    "- Pode resultar em vetores esparsos, especialmente em grandes vocabulários.\r\n",
    "- Pode ser usado como entrada para algoritmos de aprendizado.\r\n",
    ".\r\n",
    "tos):**\r\n",
    "lo:**\r\n",
    ":**\r\n",
    "]\n"
   ]
  },
  {
   "cell_type": "code",
   "execution_count": 69,
   "id": "7bafd82c-9238-4f86-bb27-bfe1ff70ba1e",
   "metadata": {},
   "outputs": [
    {
     "data": {
      "text/html": [
       "<style>#sk-container-id-2 {color: black;}#sk-container-id-2 pre{padding: 0;}#sk-container-id-2 div.sk-toggleable {background-color: white;}#sk-container-id-2 label.sk-toggleable__label {cursor: pointer;display: block;width: 100%;margin-bottom: 0;padding: 0.3em;box-sizing: border-box;text-align: center;}#sk-container-id-2 label.sk-toggleable__label-arrow:before {content: \"▸\";float: left;margin-right: 0.25em;color: #696969;}#sk-container-id-2 label.sk-toggleable__label-arrow:hover:before {color: black;}#sk-container-id-2 div.sk-estimator:hover label.sk-toggleable__label-arrow:before {color: black;}#sk-container-id-2 div.sk-toggleable__content {max-height: 0;max-width: 0;overflow: hidden;text-align: left;background-color: #f0f8ff;}#sk-container-id-2 div.sk-toggleable__content pre {margin: 0.2em;color: black;border-radius: 0.25em;background-color: #f0f8ff;}#sk-container-id-2 input.sk-toggleable__control:checked~div.sk-toggleable__content {max-height: 200px;max-width: 100%;overflow: auto;}#sk-container-id-2 input.sk-toggleable__control:checked~label.sk-toggleable__label-arrow:before {content: \"▾\";}#sk-container-id-2 div.sk-estimator input.sk-toggleable__control:checked~label.sk-toggleable__label {background-color: #d4ebff;}#sk-container-id-2 div.sk-label input.sk-toggleable__control:checked~label.sk-toggleable__label {background-color: #d4ebff;}#sk-container-id-2 input.sk-hidden--visually {border: 0;clip: rect(1px 1px 1px 1px);clip: rect(1px, 1px, 1px, 1px);height: 1px;margin: -1px;overflow: hidden;padding: 0;position: absolute;width: 1px;}#sk-container-id-2 div.sk-estimator {font-family: monospace;background-color: #f0f8ff;border: 1px dotted black;border-radius: 0.25em;box-sizing: border-box;margin-bottom: 0.5em;}#sk-container-id-2 div.sk-estimator:hover {background-color: #d4ebff;}#sk-container-id-2 div.sk-parallel-item::after {content: \"\";width: 100%;border-bottom: 1px solid gray;flex-grow: 1;}#sk-container-id-2 div.sk-label:hover label.sk-toggleable__label {background-color: #d4ebff;}#sk-container-id-2 div.sk-serial::before {content: \"\";position: absolute;border-left: 1px solid gray;box-sizing: border-box;top: 0;bottom: 0;left: 50%;z-index: 0;}#sk-container-id-2 div.sk-serial {display: flex;flex-direction: column;align-items: center;background-color: white;padding-right: 0.2em;padding-left: 0.2em;position: relative;}#sk-container-id-2 div.sk-item {position: relative;z-index: 1;}#sk-container-id-2 div.sk-parallel {display: flex;align-items: stretch;justify-content: center;background-color: white;position: relative;}#sk-container-id-2 div.sk-item::before, #sk-container-id-2 div.sk-parallel-item::before {content: \"\";position: absolute;border-left: 1px solid gray;box-sizing: border-box;top: 0;bottom: 0;left: 50%;z-index: -1;}#sk-container-id-2 div.sk-parallel-item {display: flex;flex-direction: column;z-index: 1;position: relative;background-color: white;}#sk-container-id-2 div.sk-parallel-item:first-child::after {align-self: flex-end;width: 50%;}#sk-container-id-2 div.sk-parallel-item:last-child::after {align-self: flex-start;width: 50%;}#sk-container-id-2 div.sk-parallel-item:only-child::after {width: 0;}#sk-container-id-2 div.sk-dashed-wrapped {border: 1px dashed gray;margin: 0 0.4em 0.5em 0.4em;box-sizing: border-box;padding-bottom: 0.4em;background-color: white;}#sk-container-id-2 div.sk-label label {font-family: monospace;font-weight: bold;display: inline-block;line-height: 1.2em;}#sk-container-id-2 div.sk-label-container {text-align: center;}#sk-container-id-2 div.sk-container {/* jupyter's `normalize.less` sets `[hidden] { display: none; }` but bootstrap.min.css set `[hidden] { display: none !important; }` so we also need the `!important` here to be able to override the default hidden behavior on the sphinx rendered scikit-learn.org. See: https://github.com/scikit-learn/scikit-learn/issues/21755 */display: inline-block !important;position: relative;}#sk-container-id-2 div.sk-text-repr-fallback {display: none;}</style><div id=\"sk-container-id-2\" class=\"sk-top-container\"><div class=\"sk-text-repr-fallback\"><pre>MultinomialNB()</pre><b>In a Jupyter environment, please rerun this cell to show the HTML representation or trust the notebook. <br />On GitHub, the HTML representation is unable to render, please try loading this page with nbviewer.org.</b></div><div class=\"sk-container\" hidden><div class=\"sk-item\"><div class=\"sk-estimator sk-toggleable\"><input class=\"sk-toggleable__control sk-hidden--visually\" id=\"sk-estimator-id-2\" type=\"checkbox\" checked><label for=\"sk-estimator-id-2\" class=\"sk-toggleable__label sk-toggleable__label-arrow\">MultinomialNB</label><div class=\"sk-toggleable__content\"><pre>MultinomialNB()</pre></div></div></div></div></div>"
      ],
      "text/plain": [
       "MultinomialNB()"
      ]
     },
     "execution_count": 69,
     "metadata": {},
     "output_type": "execute_result"
    }
   ],
   "source": [
    "vectorizer = CountVectorizer(analyzer=\"word\")\n",
    "freq_texto = vectorizer.fit_transform(texto)\n",
    "modelo = MultinomialNB()\n",
    "modelo.fit(freq_texto, classificacao)"
   ]
  },
  {
   "cell_type": "code",
   "execution_count": 60,
   "id": "4a0bb014-329c-4ab8-a7f3-091a60a29f7d",
   "metadata": {},
   "outputs": [
    {
     "data": {
      "text/plain": [
       "(1010, 5956)"
      ]
     },
     "execution_count": 60,
     "metadata": {},
     "output_type": "execute_result"
    }
   ],
   "source": [
    "freq_texto.shape"
   ]
  },
  {
   "cell_type": "code",
   "execution_count": 61,
   "id": "0453d643-b850-4d35-8d61-6e062530ce18",
   "metadata": {},
   "outputs": [
    {
     "data": {
      "text/plain": [
       "array([[0, 0, 0, ..., 0, 0, 0],\n",
       "       [0, 0, 0, ..., 0, 0, 0],\n",
       "       [0, 0, 0, ..., 0, 0, 0],\n",
       "       ...,\n",
       "       [0, 0, 0, ..., 0, 0, 0],\n",
       "       [0, 0, 0, ..., 0, 0, 0],\n",
       "       [0, 0, 0, ..., 0, 0, 0]], dtype=int64)"
      ]
     },
     "execution_count": 61,
     "metadata": {},
     "output_type": "execute_result"
    }
   ],
   "source": [
    "freq_texto.A"
   ]
  },
  {
   "cell_type": "code",
   "execution_count": 62,
   "id": "09ab50bb-5816-433f-a89b-1674c495891a",
   "metadata": {},
   "outputs": [],
   "source": [
    "testes = ['Essa faculdade está um lixo', 'Essa faculdade é boa', 'Essa faculdade não é boa', 'Não sei se amo ou odeio essa faculdade', 'Amo a UNIP']"
   ]
  },
  {
   "cell_type": "code",
   "execution_count": 63,
   "id": "599efe80-4820-4bf0-94af-003f36154dcd",
   "metadata": {},
   "outputs": [],
   "source": [
    "freq_testes = vectorizer.transform(testes)"
   ]
  },
  {
   "cell_type": "code",
   "execution_count": 64,
   "id": "965a5884-005a-4f89-a7cd-06acf6bc8ecb",
   "metadata": {},
   "outputs": [
    {
     "name": "stdout",
     "output_type": "stream",
     "text": [
      "Essa faculdade está um lixo, Positivo\n",
      "Essa faculdade é boa, Positivo\n",
      "Essa faculdade não é boa, Positivo\n",
      "Não sei se amo ou odeio essa faculdade, Positivo\n",
      "Amo a UNIP, Positivo\n"
     ]
    }
   ],
   "source": [
    "for t, c in zip(testes, modelo.predict(freq_testes)):\n",
    "    print(f'{t}, {c}')"
   ]
  },
  {
   "cell_type": "code",
   "execution_count": 72,
   "id": "c4a8df5b-dc03-40e0-b173-6ea5a7851271",
   "metadata": {},
   "outputs": [
    {
     "name": "stdout",
     "output_type": "stream",
     "text": [
      "['Negativo' 'Neutro' 'Positivo']\n"
     ]
    },
    {
     "data": {
      "text/plain": [
       "array([[0.  , 0.  , 0.99],\n",
       "       [0.  , 0.01, 0.99],\n",
       "       [0.  , 0.01, 0.99],\n",
       "       [0.  , 0.03, 0.97],\n",
       "       [0.  , 0.01, 0.99]])"
      ]
     },
     "execution_count": 72,
     "metadata": {},
     "output_type": "execute_result"
    }
   ],
   "source": [
    "print(modelo.classes_)\n",
    "modelo.predict_proba(freq_testes).round(2)"
   ]
  },
  {
   "cell_type": "code",
   "execution_count": 51,
   "id": "8fbce864-6bc9-44ec-893a-b9304793d4a9",
   "metadata": {},
   "outputs": [],
   "source": [
    "resultados = cross_val_predict(modelo, freq_texto, classificacao, cv=10)"
   ]
  },
  {
   "cell_type": "code",
   "execution_count": 52,
   "id": "904527a9-4d3f-42d6-8bc8-8c96fbd6a7c3",
   "metadata": {},
   "outputs": [
    {
     "data": {
      "text/plain": [
       "0.9475247524752475"
      ]
     },
     "execution_count": 52,
     "metadata": {},
     "output_type": "execute_result"
    }
   ],
   "source": [
    "metrics.accuracy_score(classificacao, resultados)"
   ]
  },
  {
   "cell_type": "code",
   "execution_count": 55,
   "id": "b0827eeb-4422-468c-b4f3-b45bf5e06c72",
   "metadata": {},
   "outputs": [
    {
     "name": "stdout",
     "output_type": "stream",
     "text": [
      "              precision    recall  f1-score   support\n",
      "\n",
      "    Positivo       1.00      0.00      0.00        10\n",
      "    Negativo       1.00      0.00      0.00        43\n",
      "      Neutro       0.95      1.00      0.97       957\n",
      "\n",
      "    accuracy                           0.95      1010\n",
      "   macro avg       0.98      0.33      0.32      1010\n",
      "weighted avg       0.95      0.95      0.92      1010\n",
      "\n"
     ]
    }
   ],
   "source": [
    "sentimento=['Positivo','Negativo','Neutro']\n",
    "print(metrics.classification_report(classificacao, resultados, target_names=sentimento, zero_division=1))"
   ]
  },
  {
   "cell_type": "code",
   "execution_count": null,
   "id": "d2590301-d413-40fe-b084-ae07182171bf",
   "metadata": {},
   "outputs": [],
   "source": []
  }
 ],
 "metadata": {
  "kernelspec": {
   "display_name": "Python 3 (ipykernel)",
   "language": "python",
   "name": "python3"
  },
  "language_info": {
   "codemirror_mode": {
    "name": "ipython",
    "version": 3
   },
   "file_extension": ".py",
   "mimetype": "text/x-python",
   "name": "python",
   "nbconvert_exporter": "python",
   "pygments_lexer": "ipython3",
   "version": "3.10.7"
  }
 },
 "nbformat": 4,
 "nbformat_minor": 5
}
