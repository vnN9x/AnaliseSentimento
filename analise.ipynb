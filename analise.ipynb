{
 "cells": [
  {
   "cell_type": "code",
   "execution_count": 36,
   "id": "32011d5a-49bd-4fb5-9223-4585bbf7d941",
   "metadata": {},
   "outputs": [],
   "source": [
    "import pandas as pd\n",
    "import numpy as np\n",
    "import matplotlib.pyplot as plt\n",
    "import seaborn as sns\n",
    "import nltk\n",
    "from sklearn.feature_extraction.text import CountVectorizer\n",
    "from sklearn.naive_bayes import MultinomialNB\n",
    "from sklearn import metrics\n",
    "from sklearn.model_selection import cross_val_predict\n",
    "from sklearn.pipeline import Pipeline\n",
    "from sklearn import svm\n",
    "import warnings\n",
    "warnings.filterwarnings(\"ignore\", category=UserWarning, module=\"sklearn\")"
   ]
  },
  {
   "cell_type": "markdown",
   "id": "9581784d-aa3e-4220-bb18-4c870743c1c3",
   "metadata": {},
   "source": [
    "## Lendo os dados que foram obtidos por script python através de scrapping"
   ]
  },
  {
   "cell_type": "code",
   "execution_count": 37,
   "id": "6d4612ca-fc81-463b-94bd-dff2ef850388",
   "metadata": {},
   "outputs": [],
   "source": [
    "df = pd.read_csv('./data/others/querobolsa.csv')"
   ]
  },
  {
   "cell_type": "markdown",
   "id": "a6990d16-6f2f-41c9-9343-c1e01aab6453",
   "metadata": {},
   "source": [
    "# Aqui é um exemplo pequeno de como funciona o nosso DataFrame (Tabela)\n",
    "\n",
    "## Unammed: 0 é a coluna que atribui um id automatico e auto incremental para cada linha\n",
    "## author: representa o nome de quem escreveu a avaliação no site\n",
    "## text: uma concatenação do texto de pros e contras\n",
    "## rating: Classificação de impressão positiva ou negativa do usuário em relação a universidade, baseada na nota da plataforma.\n",
    "\n",
    "### Se a nota na plataforma for maior que 3, então é Positivo. Se for menor ou igual a 2, então Negativo. Se estiver entre esses valores, então a nota é Neutro."
   ]
  },
  {
   "cell_type": "code",
   "execution_count": 38,
   "id": "f231b4ea-1245-49e2-a018-a8e540b3e822",
   "metadata": {},
   "outputs": [
    {
     "data": {
      "text/html": [
       "<div>\n",
       "<style scoped>\n",
       "    .dataframe tbody tr th:only-of-type {\n",
       "        vertical-align: middle;\n",
       "    }\n",
       "\n",
       "    .dataframe tbody tr th {\n",
       "        vertical-align: top;\n",
       "    }\n",
       "\n",
       "    .dataframe thead th {\n",
       "        text-align: right;\n",
       "    }\n",
       "</style>\n",
       "<table border=\"1\" class=\"dataframe\">\n",
       "  <thead>\n",
       "    <tr style=\"text-align: right;\">\n",
       "      <th></th>\n",
       "      <th>Unnamed: 0</th>\n",
       "      <th>author</th>\n",
       "      <th>text</th>\n",
       "      <th>rating</th>\n",
       "    </tr>\n",
       "  </thead>\n",
       "  <tbody>\n",
       "    <tr>\n",
       "      <th>0</th>\n",
       "      <td>0</td>\n",
       "      <td>Arthur Menisck</td>\n",
       "      <td>A Universidade Paulista - UNIP tem melhorado b...</td>\n",
       "      <td>Neutro</td>\n",
       "    </tr>\n",
       "    <tr>\n",
       "      <th>1</th>\n",
       "      <td>1</td>\n",
       "      <td>Bruna Bianchini</td>\n",
       "      <td>Faculdade extremamente fácil de localizar e su...</td>\n",
       "      <td>Positivo</td>\n",
       "    </tr>\n",
       "    <tr>\n",
       "      <th>2</th>\n",
       "      <td>2</td>\n",
       "      <td>Bruna Rodrigues</td>\n",
       "      <td>Professores ótimos, excelente nota no MEC, boa...</td>\n",
       "      <td>Positivo</td>\n",
       "    </tr>\n",
       "    <tr>\n",
       "      <th>3</th>\n",
       "      <td>3</td>\n",
       "      <td>Márcia Dias</td>\n",
       "      <td>O ensino é o ponto mais positivo da universida...</td>\n",
       "      <td>Positivo</td>\n",
       "    </tr>\n",
       "    <tr>\n",
       "      <th>4</th>\n",
       "      <td>4</td>\n",
       "      <td>Eugênio Castro</td>\n",
       "      <td>Gostei do local tem boa estrutura acesso fácil...</td>\n",
       "      <td>Positivo</td>\n",
       "    </tr>\n",
       "  </tbody>\n",
       "</table>\n",
       "</div>"
      ],
      "text/plain": [
       "   Unnamed: 0           author  \\\n",
       "0           0   Arthur Menisck   \n",
       "1           1  Bruna Bianchini   \n",
       "2           2  Bruna Rodrigues   \n",
       "3           3      Márcia Dias   \n",
       "4           4   Eugênio Castro   \n",
       "\n",
       "                                                text    rating  \n",
       "0  A Universidade Paulista - UNIP tem melhorado b...    Neutro  \n",
       "1  Faculdade extremamente fácil de localizar e su...  Positivo  \n",
       "2  Professores ótimos, excelente nota no MEC, boa...  Positivo  \n",
       "3  O ensino é o ponto mais positivo da universida...  Positivo  \n",
       "4  Gostei do local tem boa estrutura acesso fácil...  Positivo  "
      ]
     },
     "execution_count": 38,
     "metadata": {},
     "output_type": "execute_result"
    }
   ],
   "source": [
    "df.head()"
   ]
  },
  {
   "cell_type": "code",
   "execution_count": 39,
   "id": "9b6b5b6d-cabe-4165-9a4d-da66488e5aea",
   "metadata": {},
   "outputs": [
    {
     "data": {
      "text/plain": [
       "Unnamed: 0    697\n",
       "author        696\n",
       "text          697\n",
       "rating        697\n",
       "dtype: int64"
      ]
     },
     "execution_count": 39,
     "metadata": {},
     "output_type": "execute_result"
    }
   ],
   "source": [
    "df[df.rating=='Neutro'].count()"
   ]
  },
  {
   "cell_type": "code",
   "execution_count": 40,
   "id": "8735ca61-f37c-45e1-bd4f-867c5b95595e",
   "metadata": {},
   "outputs": [
    {
     "data": {
      "text/plain": [
       "Unnamed: 0    3200\n",
       "author        3199\n",
       "text          3200\n",
       "rating        3200\n",
       "dtype: int64"
      ]
     },
     "execution_count": 40,
     "metadata": {},
     "output_type": "execute_result"
    }
   ],
   "source": [
    "df[df.rating=='Positivo'].count()"
   ]
  },
  {
   "cell_type": "code",
   "execution_count": 41,
   "id": "39629fc1-a026-4bfd-baaf-261db2437d03",
   "metadata": {},
   "outputs": [
    {
     "data": {
      "text/plain": [
       "Unnamed: 0    103\n",
       "author        103\n",
       "text          103\n",
       "rating        103\n",
       "dtype: int64"
      ]
     },
     "execution_count": 41,
     "metadata": {},
     "output_type": "execute_result"
    }
   ],
   "source": [
    "df[df.rating=='Negativo'].count()"
   ]
  },
  {
   "cell_type": "code",
   "execution_count": 42,
   "id": "db27975e-0276-430c-b28b-634dce7ed84b",
   "metadata": {},
   "outputs": [],
   "source": [
    "texto = df['text'].values\n",
    "classificacao = df['rating'].values"
   ]
  },
  {
   "cell_type": "markdown",
   "id": "2b361376-e94b-4d14-a0fa-e656b32486b4",
   "metadata": {},
   "source": [
    "# Bag of Words (BoW) - Processo de Vetorização\r\n",
    "\r\n",
    "## 1. Tokenização:\r\n",
    "\r\n",
    "O primeiro passo é dividir o texto em unidades menores chamadas \"tokens\". Em BoW, os tokens geralmente são palavras, mas podem ser n-gramas ou até mesmo caracteres, dependendo da granularidade desejada.\r\n",
    "\r\n",
    "**Exemplo:**\r\n",
    "\r\n",
    "Texto: \"A análise de sentimentos é uma parte interessante do processamento de linguagem natural.\"\r\n",
    "\r\n",
    "Tokens: [\"A\", \"análise\", \"de\", \"sentimentos\", \"é\", \"uma\", \"parte\", \"interessante\", \"do\", \"processamento\", \"de\", \"linguagem\", \"natural\"]\r\n",
    "\r\n",
    "\r\n",
    "## 2. Construção do Vocabulário:\r\n",
    "\r\n",
    "Em seguida, cria-se um vocabulário único a partir de todos os tokens encontrados no corpus (conjunto de documentos). Cada palavra única no vocabulário recebe um índice único.\r\n",
    "\r\n",
    "**Exemplo:**\r\n",
    "\r\n",
    "Vocabulário: {\"A\": 0, \"análise\": 1, \"de\": 2, \"sentimentos\": 3, \"é\": 4, \"uma\": 5, \"parte\": 6, \"interessante\": 7, \"do\": 8, \"processamento\": 9, \"linguagem\": 10, \"natural\":11}\r\n",
    "\r\n",
    "## 3. Contagem de Ocorrências:\r\n",
    "\r\n",
    "Para cada documento, conta-se quantas vezes cada palavra do vocabulário aparece no documento. Essa contagem é armazenada em um vetor\r\n",
    "\r\n",
    "**Exemplo:**\r\n",
    "\r\n",
    "Vetor do Documento: [1, 1, 2, 1, 1, 1, 1, 1, 1, 1, 1, 1]\r\n",
    "\r\n",
    "Este vetor representa a contagem de ocorrências de cada palavra no documento em relação ao vocabulário.\r\n",
    "\r\n",
    "## 4. Vetorização Final:\r\n",
    "\r\n",
    "O conjunto de vetores resultante, um para cada documento, forma a representação final do BoW para o corpus.\r\n",
    "\r\n",
    "**Exemplo (Dois Documentos):**\r\n",
    "\r\n",
    "Documento 1: [1, 2, 1, 1, 1, 1, 1, 1, 1, 1, 1]\r\n",
    "Documento 2: [0, 2, 1, 0, 2, 1, 0, 1, 0, 2, 1, 1]\r\n",
    "\r\n",
    "Cada posição no vetor representa a contagem de ocorrências de uma palavra específica no documento.\r\n",
    "\r\n",
    "## Considerações Finais:\r\n",
    "\r\n",
    "- BoW perde a ordem das palavras e considera apenas a presença ou ausência delas.\r\n",
    "- Pode resultar em vetores esparsos, especialmente em grandes vocabulários.\r\n",
    "- Pode ser usadgoritmos de aprendizado.\r\n",
    ".\r\n",
    "tos):**\r\n",
    "lo:**\r\n",
    ":**\r\n",
    "]\n"
   ]
  },
  {
   "cell_type": "code",
   "execution_count": 43,
   "id": "7bafd82c-9238-4f86-bb27-bfe1ff70ba1e",
   "metadata": {},
   "outputs": [
    {
     "data": {
      "text/html": [
       "<style>#sk-container-id-4 {color: black;}#sk-container-id-4 pre{padding: 0;}#sk-container-id-4 div.sk-toggleable {background-color: white;}#sk-container-id-4 label.sk-toggleable__label {cursor: pointer;display: block;width: 100%;margin-bottom: 0;padding: 0.3em;box-sizing: border-box;text-align: center;}#sk-container-id-4 label.sk-toggleable__label-arrow:before {content: \"▸\";float: left;margin-right: 0.25em;color: #696969;}#sk-container-id-4 label.sk-toggleable__label-arrow:hover:before {color: black;}#sk-container-id-4 div.sk-estimator:hover label.sk-toggleable__label-arrow:before {color: black;}#sk-container-id-4 div.sk-toggleable__content {max-height: 0;max-width: 0;overflow: hidden;text-align: left;background-color: #f0f8ff;}#sk-container-id-4 div.sk-toggleable__content pre {margin: 0.2em;color: black;border-radius: 0.25em;background-color: #f0f8ff;}#sk-container-id-4 input.sk-toggleable__control:checked~div.sk-toggleable__content {max-height: 200px;max-width: 100%;overflow: auto;}#sk-container-id-4 input.sk-toggleable__control:checked~label.sk-toggleable__label-arrow:before {content: \"▾\";}#sk-container-id-4 div.sk-estimator input.sk-toggleable__control:checked~label.sk-toggleable__label {background-color: #d4ebff;}#sk-container-id-4 div.sk-label input.sk-toggleable__control:checked~label.sk-toggleable__label {background-color: #d4ebff;}#sk-container-id-4 input.sk-hidden--visually {border: 0;clip: rect(1px 1px 1px 1px);clip: rect(1px, 1px, 1px, 1px);height: 1px;margin: -1px;overflow: hidden;padding: 0;position: absolute;width: 1px;}#sk-container-id-4 div.sk-estimator {font-family: monospace;background-color: #f0f8ff;border: 1px dotted black;border-radius: 0.25em;box-sizing: border-box;margin-bottom: 0.5em;}#sk-container-id-4 div.sk-estimator:hover {background-color: #d4ebff;}#sk-container-id-4 div.sk-parallel-item::after {content: \"\";width: 100%;border-bottom: 1px solid gray;flex-grow: 1;}#sk-container-id-4 div.sk-label:hover label.sk-toggleable__label {background-color: #d4ebff;}#sk-container-id-4 div.sk-serial::before {content: \"\";position: absolute;border-left: 1px solid gray;box-sizing: border-box;top: 0;bottom: 0;left: 50%;z-index: 0;}#sk-container-id-4 div.sk-serial {display: flex;flex-direction: column;align-items: center;background-color: white;padding-right: 0.2em;padding-left: 0.2em;position: relative;}#sk-container-id-4 div.sk-item {position: relative;z-index: 1;}#sk-container-id-4 div.sk-parallel {display: flex;align-items: stretch;justify-content: center;background-color: white;position: relative;}#sk-container-id-4 div.sk-item::before, #sk-container-id-4 div.sk-parallel-item::before {content: \"\";position: absolute;border-left: 1px solid gray;box-sizing: border-box;top: 0;bottom: 0;left: 50%;z-index: -1;}#sk-container-id-4 div.sk-parallel-item {display: flex;flex-direction: column;z-index: 1;position: relative;background-color: white;}#sk-container-id-4 div.sk-parallel-item:first-child::after {align-self: flex-end;width: 50%;}#sk-container-id-4 div.sk-parallel-item:last-child::after {align-self: flex-start;width: 50%;}#sk-container-id-4 div.sk-parallel-item:only-child::after {width: 0;}#sk-container-id-4 div.sk-dashed-wrapped {border: 1px dashed gray;margin: 0 0.4em 0.5em 0.4em;box-sizing: border-box;padding-bottom: 0.4em;background-color: white;}#sk-container-id-4 div.sk-label label {font-family: monospace;font-weight: bold;display: inline-block;line-height: 1.2em;}#sk-container-id-4 div.sk-label-container {text-align: center;}#sk-container-id-4 div.sk-container {/* jupyter's `normalize.less` sets `[hidden] { display: none; }` but bootstrap.min.css set `[hidden] { display: none !important; }` so we also need the `!important` here to be able to override the default hidden behavior on the sphinx rendered scikit-learn.org. See: https://github.com/scikit-learn/scikit-learn/issues/21755 */display: inline-block !important;position: relative;}#sk-container-id-4 div.sk-text-repr-fallback {display: none;}</style><div id=\"sk-container-id-4\" class=\"sk-top-container\"><div class=\"sk-text-repr-fallback\"><pre>MultinomialNB()</pre><b>In a Jupyter environment, please rerun this cell to show the HTML representation or trust the notebook. <br />On GitHub, the HTML representation is unable to render, please try loading this page with nbviewer.org.</b></div><div class=\"sk-container\" hidden><div class=\"sk-item\"><div class=\"sk-estimator sk-toggleable\"><input class=\"sk-toggleable__control sk-hidden--visually\" id=\"sk-estimator-id-8\" type=\"checkbox\" checked><label for=\"sk-estimator-id-8\" class=\"sk-toggleable__label sk-toggleable__label-arrow\">MultinomialNB</label><div class=\"sk-toggleable__content\"><pre>MultinomialNB()</pre></div></div></div></div></div>"
      ],
      "text/plain": [
       "MultinomialNB()"
      ]
     },
     "execution_count": 43,
     "metadata": {},
     "output_type": "execute_result"
    }
   ],
   "source": [
    "vectorizer = CountVectorizer(analyzer=\"word\")\n",
    "freq_texto = vectorizer.fit_transform(texto)\n",
    "modelo = MultinomialNB()\n",
    "modelo.fit(freq_texto, classificacao)"
   ]
  },
  {
   "cell_type": "code",
   "execution_count": 44,
   "id": "4a0bb014-329c-4ab8-a7f3-091a60a29f7d",
   "metadata": {},
   "outputs": [
    {
     "data": {
      "text/plain": [
       "(4000, 9947)"
      ]
     },
     "execution_count": 44,
     "metadata": {},
     "output_type": "execute_result"
    }
   ],
   "source": [
    "freq_texto.shape"
   ]
  },
  {
   "cell_type": "code",
   "execution_count": 45,
   "id": "0453d643-b850-4d35-8d61-6e062530ce18",
   "metadata": {},
   "outputs": [
    {
     "data": {
      "text/plain": [
       "array([[0, 0, 0, ..., 0, 0, 0],\n",
       "       [0, 0, 0, ..., 0, 0, 0],\n",
       "       [0, 0, 0, ..., 0, 0, 0],\n",
       "       ...,\n",
       "       [0, 0, 0, ..., 0, 0, 0],\n",
       "       [0, 0, 0, ..., 0, 0, 0],\n",
       "       [0, 0, 0, ..., 0, 0, 0]], dtype=int64)"
      ]
     },
     "execution_count": 45,
     "metadata": {},
     "output_type": "execute_result"
    }
   ],
   "source": [
    "freq_texto.A"
   ]
  },
  {
   "cell_type": "code",
   "execution_count": 46,
   "id": "09ab50bb-5816-433f-a89b-1674c495891a",
   "metadata": {},
   "outputs": [],
   "source": [
    "testes = ['Essa faculdade está um lixo', 'Essa faculdade é boa', 'Essa faculdade não é boa', 'Não sei se amo ou odeio essa faculdade', 'Amo a UNIP']"
   ]
  },
  {
   "cell_type": "code",
   "execution_count": 47,
   "id": "599efe80-4820-4bf0-94af-003f36154dcd",
   "metadata": {},
   "outputs": [],
   "source": [
    "freq_testes = vectorizer.transform(testes)"
   ]
  },
  {
   "cell_type": "code",
   "execution_count": 48,
   "id": "965a5884-005a-4f89-a7cd-06acf6bc8ecb",
   "metadata": {},
   "outputs": [
    {
     "name": "stdout",
     "output_type": "stream",
     "text": [
      "Essa faculdade está um lixo, Positivo\n",
      "Essa faculdade é boa, Positivo\n",
      "Essa faculdade não é boa, Positivo\n",
      "Não sei se amo ou odeio essa faculdade, Positivo\n",
      "Amo a UNIP, Positivo\n"
     ]
    }
   ],
   "source": [
    "for t, c in zip(testes, modelo.predict(freq_testes)):\n",
    "    print(f'{t}, {c}')"
   ]
  },
  {
   "cell_type": "code",
   "execution_count": 49,
   "id": "c4a8df5b-dc03-40e0-b173-6ea5a7851271",
   "metadata": {},
   "outputs": [
    {
     "name": "stdout",
     "output_type": "stream",
     "text": [
      "['Negativo' 'Neutro' 'Positivo']\n"
     ]
    },
    {
     "data": {
      "text/plain": [
       "array([[0.01, 0.13, 0.86],\n",
       "       [0.01, 0.11, 0.88],\n",
       "       [0.  , 0.11, 0.89],\n",
       "       [0.01, 0.03, 0.97],\n",
       "       [0.01, 0.02, 0.97]])"
      ]
     },
     "execution_count": 49,
     "metadata": {},
     "output_type": "execute_result"
    }
   ],
   "source": [
    "print(modelo.classes_)\n",
    "modelo.predict_proba(freq_testes).round(2)"
   ]
  },
  {
   "cell_type": "code",
   "execution_count": 50,
   "id": "707364c0-924e-48d3-8d8a-4858f065ee3b",
   "metadata": {},
   "outputs": [],
   "source": [
    "def add_neg(texto):\n",
    "    neg = ['não', 'not', 'Não']\n",
    "    neg_detected = False\n",
    "    res = []\n",
    "    words = texto.split()\n",
    "    for p in words:\n",
    "        p = p.lower()\n",
    "        if neg_detected == True:\n",
    "            p = p + '_NEG'\n",
    "        if p in neg:\n",
    "            neg_detected = True\n",
    "        res.append(p)\n",
    "    return(\" \".join(res))"
   ]
  },
  {
   "cell_type": "code",
   "execution_count": 51,
   "id": "dd2e0cb2-7524-4255-8487-86ebdbb0b40b",
   "metadata": {},
   "outputs": [
    {
     "data": {
      "text/plain": [
       "'eu gosto da faculade e gostaria de continuar estudando aqui'"
      ]
     },
     "execution_count": 51,
     "metadata": {},
     "output_type": "execute_result"
    }
   ],
   "source": [
    "add_neg('Eu gosto da faculade e gostaria de continuar estudando aqui')"
   ]
  },
  {
   "cell_type": "code",
   "execution_count": 52,
   "id": "fdb8fb58-5984-4237-b799-0bac9eb45b50",
   "metadata": {},
   "outputs": [
    {
     "data": {
      "text/plain": [
       "'eu não gosto_NEG da_NEG faculdade_NEG'"
      ]
     },
     "execution_count": 52,
     "metadata": {},
     "output_type": "execute_result"
    }
   ],
   "source": [
    "add_neg('Eu não gosto da faculdade')"
   ]
  },
  {
   "cell_type": "code",
   "execution_count": 53,
   "id": "e691a22a-de4e-4469-b1ef-3ced570837e5",
   "metadata": {},
   "outputs": [],
   "source": [
    "simple_pipeline = Pipeline([('counts', CountVectorizer()), ('classifier', MultinomialNB())])"
   ]
  },
  {
   "cell_type": "code",
   "execution_count": 54,
   "id": "f92d7e88-2e3f-457e-a1fe-ac2bbaef771b",
   "metadata": {},
   "outputs": [],
   "source": [
    "neg_pipeline = Pipeline([('counts', CountVectorizer(tokenizer=lambda text: add_neg(text))), ('classifier', MultinomialNB())])"
   ]
  },
  {
   "cell_type": "code",
   "execution_count": 55,
   "id": "414576de-04a5-4188-9640-335e1fd46f97",
   "metadata": {},
   "outputs": [
    {
     "data": {
      "text/html": [
       "<style>#sk-container-id-5 {color: black;}#sk-container-id-5 pre{padding: 0;}#sk-container-id-5 div.sk-toggleable {background-color: white;}#sk-container-id-5 label.sk-toggleable__label {cursor: pointer;display: block;width: 100%;margin-bottom: 0;padding: 0.3em;box-sizing: border-box;text-align: center;}#sk-container-id-5 label.sk-toggleable__label-arrow:before {content: \"▸\";float: left;margin-right: 0.25em;color: #696969;}#sk-container-id-5 label.sk-toggleable__label-arrow:hover:before {color: black;}#sk-container-id-5 div.sk-estimator:hover label.sk-toggleable__label-arrow:before {color: black;}#sk-container-id-5 div.sk-toggleable__content {max-height: 0;max-width: 0;overflow: hidden;text-align: left;background-color: #f0f8ff;}#sk-container-id-5 div.sk-toggleable__content pre {margin: 0.2em;color: black;border-radius: 0.25em;background-color: #f0f8ff;}#sk-container-id-5 input.sk-toggleable__control:checked~div.sk-toggleable__content {max-height: 200px;max-width: 100%;overflow: auto;}#sk-container-id-5 input.sk-toggleable__control:checked~label.sk-toggleable__label-arrow:before {content: \"▾\";}#sk-container-id-5 div.sk-estimator input.sk-toggleable__control:checked~label.sk-toggleable__label {background-color: #d4ebff;}#sk-container-id-5 div.sk-label input.sk-toggleable__control:checked~label.sk-toggleable__label {background-color: #d4ebff;}#sk-container-id-5 input.sk-hidden--visually {border: 0;clip: rect(1px 1px 1px 1px);clip: rect(1px, 1px, 1px, 1px);height: 1px;margin: -1px;overflow: hidden;padding: 0;position: absolute;width: 1px;}#sk-container-id-5 div.sk-estimator {font-family: monospace;background-color: #f0f8ff;border: 1px dotted black;border-radius: 0.25em;box-sizing: border-box;margin-bottom: 0.5em;}#sk-container-id-5 div.sk-estimator:hover {background-color: #d4ebff;}#sk-container-id-5 div.sk-parallel-item::after {content: \"\";width: 100%;border-bottom: 1px solid gray;flex-grow: 1;}#sk-container-id-5 div.sk-label:hover label.sk-toggleable__label {background-color: #d4ebff;}#sk-container-id-5 div.sk-serial::before {content: \"\";position: absolute;border-left: 1px solid gray;box-sizing: border-box;top: 0;bottom: 0;left: 50%;z-index: 0;}#sk-container-id-5 div.sk-serial {display: flex;flex-direction: column;align-items: center;background-color: white;padding-right: 0.2em;padding-left: 0.2em;position: relative;}#sk-container-id-5 div.sk-item {position: relative;z-index: 1;}#sk-container-id-5 div.sk-parallel {display: flex;align-items: stretch;justify-content: center;background-color: white;position: relative;}#sk-container-id-5 div.sk-item::before, #sk-container-id-5 div.sk-parallel-item::before {content: \"\";position: absolute;border-left: 1px solid gray;box-sizing: border-box;top: 0;bottom: 0;left: 50%;z-index: -1;}#sk-container-id-5 div.sk-parallel-item {display: flex;flex-direction: column;z-index: 1;position: relative;background-color: white;}#sk-container-id-5 div.sk-parallel-item:first-child::after {align-self: flex-end;width: 50%;}#sk-container-id-5 div.sk-parallel-item:last-child::after {align-self: flex-start;width: 50%;}#sk-container-id-5 div.sk-parallel-item:only-child::after {width: 0;}#sk-container-id-5 div.sk-dashed-wrapped {border: 1px dashed gray;margin: 0 0.4em 0.5em 0.4em;box-sizing: border-box;padding-bottom: 0.4em;background-color: white;}#sk-container-id-5 div.sk-label label {font-family: monospace;font-weight: bold;display: inline-block;line-height: 1.2em;}#sk-container-id-5 div.sk-label-container {text-align: center;}#sk-container-id-5 div.sk-container {/* jupyter's `normalize.less` sets `[hidden] { display: none; }` but bootstrap.min.css set `[hidden] { display: none !important; }` so we also need the `!important` here to be able to override the default hidden behavior on the sphinx rendered scikit-learn.org. See: https://github.com/scikit-learn/scikit-learn/issues/21755 */display: inline-block !important;position: relative;}#sk-container-id-5 div.sk-text-repr-fallback {display: none;}</style><div id=\"sk-container-id-5\" class=\"sk-top-container\"><div class=\"sk-text-repr-fallback\"><pre>Pipeline(steps=[(&#x27;counts&#x27;, CountVectorizer()), (&#x27;classifier&#x27;, MultinomialNB())])</pre><b>In a Jupyter environment, please rerun this cell to show the HTML representation or trust the notebook. <br />On GitHub, the HTML representation is unable to render, please try loading this page with nbviewer.org.</b></div><div class=\"sk-container\" hidden><div class=\"sk-item sk-dashed-wrapped\"><div class=\"sk-label-container\"><div class=\"sk-label sk-toggleable\"><input class=\"sk-toggleable__control sk-hidden--visually\" id=\"sk-estimator-id-9\" type=\"checkbox\" ><label for=\"sk-estimator-id-9\" class=\"sk-toggleable__label sk-toggleable__label-arrow\">Pipeline</label><div class=\"sk-toggleable__content\"><pre>Pipeline(steps=[(&#x27;counts&#x27;, CountVectorizer()), (&#x27;classifier&#x27;, MultinomialNB())])</pre></div></div></div><div class=\"sk-serial\"><div class=\"sk-item\"><div class=\"sk-estimator sk-toggleable\"><input class=\"sk-toggleable__control sk-hidden--visually\" id=\"sk-estimator-id-10\" type=\"checkbox\" ><label for=\"sk-estimator-id-10\" class=\"sk-toggleable__label sk-toggleable__label-arrow\">CountVectorizer</label><div class=\"sk-toggleable__content\"><pre>CountVectorizer()</pre></div></div></div><div class=\"sk-item\"><div class=\"sk-estimator sk-toggleable\"><input class=\"sk-toggleable__control sk-hidden--visually\" id=\"sk-estimator-id-11\" type=\"checkbox\" ><label for=\"sk-estimator-id-11\" class=\"sk-toggleable__label sk-toggleable__label-arrow\">MultinomialNB</label><div class=\"sk-toggleable__content\"><pre>MultinomialNB()</pre></div></div></div></div></div></div></div>"
      ],
      "text/plain": [
       "Pipeline(steps=[('counts', CountVectorizer()), ('classifier', MultinomialNB())])"
      ]
     },
     "execution_count": 55,
     "metadata": {},
     "output_type": "execute_result"
    }
   ],
   "source": [
    "simple_pipeline.fit(texto, classificacao)"
   ]
  },
  {
   "cell_type": "code",
   "execution_count": 56,
   "id": "956fdf0e-4559-452e-9ac0-2b3312d39b8b",
   "metadata": {},
   "outputs": [
    {
     "data": {
      "text/plain": [
       "[('counts', CountVectorizer()), ('classifier', MultinomialNB())]"
      ]
     },
     "execution_count": 56,
     "metadata": {},
     "output_type": "execute_result"
    }
   ],
   "source": [
    "simple_pipeline.steps"
   ]
  },
  {
   "cell_type": "code",
   "execution_count": 57,
   "id": "bbf9dcfb-040c-4b9b-9b5b-1a2fb06e19db",
   "metadata": {},
   "outputs": [
    {
     "data": {
      "text/html": [
       "<style>#sk-container-id-6 {color: black;}#sk-container-id-6 pre{padding: 0;}#sk-container-id-6 div.sk-toggleable {background-color: white;}#sk-container-id-6 label.sk-toggleable__label {cursor: pointer;display: block;width: 100%;margin-bottom: 0;padding: 0.3em;box-sizing: border-box;text-align: center;}#sk-container-id-6 label.sk-toggleable__label-arrow:before {content: \"▸\";float: left;margin-right: 0.25em;color: #696969;}#sk-container-id-6 label.sk-toggleable__label-arrow:hover:before {color: black;}#sk-container-id-6 div.sk-estimator:hover label.sk-toggleable__label-arrow:before {color: black;}#sk-container-id-6 div.sk-toggleable__content {max-height: 0;max-width: 0;overflow: hidden;text-align: left;background-color: #f0f8ff;}#sk-container-id-6 div.sk-toggleable__content pre {margin: 0.2em;color: black;border-radius: 0.25em;background-color: #f0f8ff;}#sk-container-id-6 input.sk-toggleable__control:checked~div.sk-toggleable__content {max-height: 200px;max-width: 100%;overflow: auto;}#sk-container-id-6 input.sk-toggleable__control:checked~label.sk-toggleable__label-arrow:before {content: \"▾\";}#sk-container-id-6 div.sk-estimator input.sk-toggleable__control:checked~label.sk-toggleable__label {background-color: #d4ebff;}#sk-container-id-6 div.sk-label input.sk-toggleable__control:checked~label.sk-toggleable__label {background-color: #d4ebff;}#sk-container-id-6 input.sk-hidden--visually {border: 0;clip: rect(1px 1px 1px 1px);clip: rect(1px, 1px, 1px, 1px);height: 1px;margin: -1px;overflow: hidden;padding: 0;position: absolute;width: 1px;}#sk-container-id-6 div.sk-estimator {font-family: monospace;background-color: #f0f8ff;border: 1px dotted black;border-radius: 0.25em;box-sizing: border-box;margin-bottom: 0.5em;}#sk-container-id-6 div.sk-estimator:hover {background-color: #d4ebff;}#sk-container-id-6 div.sk-parallel-item::after {content: \"\";width: 100%;border-bottom: 1px solid gray;flex-grow: 1;}#sk-container-id-6 div.sk-label:hover label.sk-toggleable__label {background-color: #d4ebff;}#sk-container-id-6 div.sk-serial::before {content: \"\";position: absolute;border-left: 1px solid gray;box-sizing: border-box;top: 0;bottom: 0;left: 50%;z-index: 0;}#sk-container-id-6 div.sk-serial {display: flex;flex-direction: column;align-items: center;background-color: white;padding-right: 0.2em;padding-left: 0.2em;position: relative;}#sk-container-id-6 div.sk-item {position: relative;z-index: 1;}#sk-container-id-6 div.sk-parallel {display: flex;align-items: stretch;justify-content: center;background-color: white;position: relative;}#sk-container-id-6 div.sk-item::before, #sk-container-id-6 div.sk-parallel-item::before {content: \"\";position: absolute;border-left: 1px solid gray;box-sizing: border-box;top: 0;bottom: 0;left: 50%;z-index: -1;}#sk-container-id-6 div.sk-parallel-item {display: flex;flex-direction: column;z-index: 1;position: relative;background-color: white;}#sk-container-id-6 div.sk-parallel-item:first-child::after {align-self: flex-end;width: 50%;}#sk-container-id-6 div.sk-parallel-item:last-child::after {align-self: flex-start;width: 50%;}#sk-container-id-6 div.sk-parallel-item:only-child::after {width: 0;}#sk-container-id-6 div.sk-dashed-wrapped {border: 1px dashed gray;margin: 0 0.4em 0.5em 0.4em;box-sizing: border-box;padding-bottom: 0.4em;background-color: white;}#sk-container-id-6 div.sk-label label {font-family: monospace;font-weight: bold;display: inline-block;line-height: 1.2em;}#sk-container-id-6 div.sk-label-container {text-align: center;}#sk-container-id-6 div.sk-container {/* jupyter's `normalize.less` sets `[hidden] { display: none; }` but bootstrap.min.css set `[hidden] { display: none !important; }` so we also need the `!important` here to be able to override the default hidden behavior on the sphinx rendered scikit-learn.org. See: https://github.com/scikit-learn/scikit-learn/issues/21755 */display: inline-block !important;position: relative;}#sk-container-id-6 div.sk-text-repr-fallback {display: none;}</style><div id=\"sk-container-id-6\" class=\"sk-top-container\"><div class=\"sk-text-repr-fallback\"><pre>Pipeline(steps=[(&#x27;counts&#x27;,\n",
       "                 CountVectorizer(tokenizer=&lt;function &lt;lambda&gt; at 0x000002E67C86B490&gt;)),\n",
       "                (&#x27;classifier&#x27;, MultinomialNB())])</pre><b>In a Jupyter environment, please rerun this cell to show the HTML representation or trust the notebook. <br />On GitHub, the HTML representation is unable to render, please try loading this page with nbviewer.org.</b></div><div class=\"sk-container\" hidden><div class=\"sk-item sk-dashed-wrapped\"><div class=\"sk-label-container\"><div class=\"sk-label sk-toggleable\"><input class=\"sk-toggleable__control sk-hidden--visually\" id=\"sk-estimator-id-12\" type=\"checkbox\" ><label for=\"sk-estimator-id-12\" class=\"sk-toggleable__label sk-toggleable__label-arrow\">Pipeline</label><div class=\"sk-toggleable__content\"><pre>Pipeline(steps=[(&#x27;counts&#x27;,\n",
       "                 CountVectorizer(tokenizer=&lt;function &lt;lambda&gt; at 0x000002E67C86B490&gt;)),\n",
       "                (&#x27;classifier&#x27;, MultinomialNB())])</pre></div></div></div><div class=\"sk-serial\"><div class=\"sk-item\"><div class=\"sk-estimator sk-toggleable\"><input class=\"sk-toggleable__control sk-hidden--visually\" id=\"sk-estimator-id-13\" type=\"checkbox\" ><label for=\"sk-estimator-id-13\" class=\"sk-toggleable__label sk-toggleable__label-arrow\">CountVectorizer</label><div class=\"sk-toggleable__content\"><pre>CountVectorizer(tokenizer=&lt;function &lt;lambda&gt; at 0x000002E67C86B490&gt;)</pre></div></div></div><div class=\"sk-item\"><div class=\"sk-estimator sk-toggleable\"><input class=\"sk-toggleable__control sk-hidden--visually\" id=\"sk-estimator-id-14\" type=\"checkbox\" ><label for=\"sk-estimator-id-14\" class=\"sk-toggleable__label sk-toggleable__label-arrow\">MultinomialNB</label><div class=\"sk-toggleable__content\"><pre>MultinomialNB()</pre></div></div></div></div></div></div></div>"
      ],
      "text/plain": [
       "Pipeline(steps=[('counts',\n",
       "                 CountVectorizer(tokenizer=<function <lambda> at 0x000002E67C86B490>)),\n",
       "                ('classifier', MultinomialNB())])"
      ]
     },
     "execution_count": 57,
     "metadata": {},
     "output_type": "execute_result"
    }
   ],
   "source": [
    "neg_pipeline.fit(texto, classificacao)"
   ]
  },
  {
   "cell_type": "code",
   "execution_count": 58,
   "id": "878ebca2-7516-41c1-a905-6357316d63a2",
   "metadata": {},
   "outputs": [
    {
     "data": {
      "text/plain": [
       "[('counts',\n",
       "  CountVectorizer(tokenizer=<function <lambda> at 0x000002E67C86B490>)),\n",
       " ('classifier', MultinomialNB())]"
      ]
     },
     "execution_count": 58,
     "metadata": {},
     "output_type": "execute_result"
    }
   ],
   "source": [
    "neg_pipeline.steps"
   ]
  },
  {
   "cell_type": "code",
   "execution_count": 59,
   "id": "e794267e-6b8b-44a5-851f-4075704732c1",
   "metadata": {},
   "outputs": [],
   "source": [
    "simple_pipeline = Pipeline([('counts', CountVectorizer()), ('classifier', svm.SVC(kernel='linear'))])"
   ]
  },
  {
   "cell_type": "code",
   "execution_count": 60,
   "id": "d50a8f7b-2fdb-4c98-aae2-412c7558414f",
   "metadata": {},
   "outputs": [],
   "source": [
    "neg_pipeline = Pipeline([('counts', CountVectorizer(tokenizer=lambda text: add_neg(text))), ('classifier', svm.SVC(kernel='linear'))])"
   ]
  },
  {
   "cell_type": "code",
   "execution_count": 61,
   "id": "8fbce864-6bc9-44ec-893a-b9304793d4a9",
   "metadata": {},
   "outputs": [],
   "source": [
    "simple_res = cross_val_predict(simple_pipeline, texto, classificacao, cv=10)"
   ]
  },
  {
   "cell_type": "code",
   "execution_count": 62,
   "id": "904527a9-4d3f-42d6-8bc8-8c96fbd6a7c3",
   "metadata": {},
   "outputs": [
    {
     "data": {
      "text/plain": [
       "0.7295"
      ]
     },
     "execution_count": 62,
     "metadata": {},
     "output_type": "execute_result"
    }
   ],
   "source": [
    "metrics.accuracy_score(classificacao, simple_res)"
   ]
  },
  {
   "cell_type": "code",
   "execution_count": 63,
   "id": "a643ada7-679a-49a9-a7d2-031c42e524be",
   "metadata": {},
   "outputs": [],
   "source": [
    "neg_res = cross_val_predict(neg_pipeline, texto, classificacao, cv=10)"
   ]
  },
  {
   "cell_type": "code",
   "execution_count": 64,
   "id": "2790bd69-c053-4ae2-9267-daa6db3c3125",
   "metadata": {},
   "outputs": [
    {
     "data": {
      "text/plain": [
       "0.7995"
      ]
     },
     "execution_count": 64,
     "metadata": {},
     "output_type": "execute_result"
    }
   ],
   "source": [
    "metrics.accuracy_score(classificacao, neg_res)"
   ]
  },
  {
   "cell_type": "code",
   "execution_count": 65,
   "id": "d2590301-d413-40fe-b084-ae07182171bf",
   "metadata": {},
   "outputs": [],
   "source": [
    "simple_svm_pipeline = Pipeline([('counts', CountVectorizer()), ('classifier', svm.SVC(kernel='linear'))])"
   ]
  },
  {
   "cell_type": "code",
   "execution_count": 66,
   "id": "24a6b381-6b47-49cb-a593-b66c6f5c2a3c",
   "metadata": {},
   "outputs": [],
   "source": [
    "neg_svm_pipeline = Pipeline([('counts', CountVectorizer(tokenizer=lambda text: add_neg(text))), ('classifier', svm.SVC(kernel='linear'))])"
   ]
  },
  {
   "cell_type": "code",
   "execution_count": 67,
   "id": "ed039687-3a71-44f0-99cb-f6f58fe6f24d",
   "metadata": {},
   "outputs": [
    {
     "name": "stdout",
     "output_type": "stream",
     "text": [
      "              precision    recall  f1-score   support\n",
      "\n",
      "    Negativo       0.22      0.19      0.21       103\n",
      "      Neutro       0.28      0.27      0.27       697\n",
      "    Positivo       0.84      0.85      0.84      3200\n",
      "\n",
      "    accuracy                           0.73      4000\n",
      "   macro avg       0.44      0.44      0.44      4000\n",
      "weighted avg       0.72      0.73      0.73      4000\n",
      "\n"
     ]
    }
   ],
   "source": [
    "sentimento = ['Positivo', 'Negativo', 'Neutro']\n",
    "print(metrics.classification_report(classificacao, simple_res))"
   ]
  },
  {
   "cell_type": "code",
   "execution_count": 68,
   "id": "0c3913cd-33c0-432c-9f65-8eb0ca8c06a7",
   "metadata": {},
   "outputs": [
    {
     "name": "stdout",
     "output_type": "stream",
     "text": [
      "              precision    recall  f1-score   support\n",
      "\n",
      "    Negativo       0.00      0.00      0.00       103\n",
      "      Neutro       0.25      0.00      0.00       697\n",
      "    Positivo       0.80      1.00      0.89      3200\n",
      "\n",
      "    accuracy                           0.80      4000\n",
      "   macro avg       0.35      0.33      0.30      4000\n",
      "weighted avg       0.68      0.80      0.71      4000\n",
      "\n"
     ]
    }
   ],
   "source": [
    "print(metrics.classification_report(classificacao, neg_res))"
   ]
  },
  {
   "cell_type": "code",
   "execution_count": 69,
   "id": "ef23fdd4-f88e-4665-ae6e-b69ce797cbe4",
   "metadata": {},
   "outputs": [
    {
     "name": "stdout",
     "output_type": "stream",
     "text": [
      "Predito   Neutro  Positivo   All\n",
      "Real                            \n",
      "Negativo       0       103   103\n",
      "Neutro         1       696   697\n",
      "Positivo       3      3197  3200\n",
      "All            4      3996  4000\n"
     ]
    }
   ],
   "source": [
    "print (pd.crosstab(classificacao, neg_res, rownames=['Real'], colnames=['Predito'], margins=True))"
   ]
  },
  {
   "cell_type": "code",
   "execution_count": 70,
   "id": "c4f312fd-c0be-4bff-8eea-d95f3a9a645f",
   "metadata": {},
   "outputs": [
    {
     "name": "stdout",
     "output_type": "stream",
     "text": [
      "oi\n"
     ]
    }
   ],
   "source": [
    "print('oi')"
   ]
  },
  {
   "cell_type": "code",
   "execution_count": null,
   "id": "58b1a59c-4880-4422-a770-dd0046c36736",
   "metadata": {},
   "outputs": [],
   "source": []
  }
 ],
 "metadata": {
  "kernelspec": {
   "display_name": "Python 3 (ipykernel)",
   "language": "python",
   "name": "python3"
  },
  "language_info": {
   "codemirror_mode": {
    "name": "ipython",
    "version": 3
   },
   "file_extension": ".py",
   "mimetype": "text/x-python",
   "name": "python",
   "nbconvert_exporter": "python",
   "pygments_lexer": "ipython3",
   "version": "3.10.7"
  }
 },
 "nbformat": 4,
 "nbformat_minor": 5
}
