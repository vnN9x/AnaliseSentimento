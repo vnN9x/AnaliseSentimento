{
 "cells": [
  {
   "cell_type": "code",
   "execution_count": 1,
   "id": "32011d5a-49bd-4fb5-9223-4585bbf7d941",
   "metadata": {},
   "outputs": [],
   "source": [
    "import pandas as pd\n",
    "import numpy as np\n",
    "import matplotlib.pyplot as plt\n",
    "import seaborn as sns\n",
    "import nltk\n",
    "from sklearn.feature_extraction.text import CountVectorizer\n",
    "from sklearn.naive_bayes import MultinomialNB\n",
    "from sklearn import metrics\n",
    "from sklearn.model_selection import cross_val_predict\n",
    "from sklearn.pipeline import Pipeline\n",
    "from sklearn import svm\n",
    "import warnings\n",
    "warnings.filterwarnings(\"ignore\", category=UserWarning, module=\"sklearn\")"
   ]
  },
  {
   "cell_type": "markdown",
   "id": "9581784d-aa3e-4220-bb18-4c870743c1c3",
   "metadata": {},
   "source": [
    "## Lendo os dados que foram obtidos por script python através de scrapping"
   ]
  },
  {
   "cell_type": "code",
   "execution_count": 2,
   "id": "6d4612ca-fc81-463b-94bd-dff2ef850388",
   "metadata": {},
   "outputs": [],
   "source": [
    "df = pd.read_csv('./data/others/querobolsa.csv')"
   ]
  },
  {
   "cell_type": "markdown",
   "id": "a6990d16-6f2f-41c9-9343-c1e01aab6453",
   "metadata": {},
   "source": [
    "# Aqui é um exemplo pequeno de como funciona o nosso DataFrame (Tabela)\n",
    "\n",
    "## Unammed: 0 é a coluna que atribui um id automatico e auto incremental para cada linha\n",
    "## author: representa o nome de quem escreveu a avaliação no site\n",
    "## text: uma concatenação do texto de pros e contras\n",
    "## rating: Classificação de impressão positiva ou negativa do usuário em relação a universidade, baseada na nota da plataforma.\n",
    "\n",
    "### Se a nota na plataforma for maior que 3, então é Positivo. Se for menor ou igual a 2, então Negativo. Se estiver entre esses valores, então a nota é Neutro."
   ]
  },
  {
   "cell_type": "code",
   "execution_count": 67,
   "id": "f231b4ea-1245-49e2-a018-a8e540b3e822",
   "metadata": {},
   "outputs": [
    {
     "data": {
      "text/html": [
       "<div>\n",
       "<style scoped>\n",
       "    .dataframe tbody tr th:only-of-type {\n",
       "        vertical-align: middle;\n",
       "    }\n",
       "\n",
       "    .dataframe tbody tr th {\n",
       "        vertical-align: top;\n",
       "    }\n",
       "\n",
       "    .dataframe thead th {\n",
       "        text-align: right;\n",
       "    }\n",
       "</style>\n",
       "<table border=\"1\" class=\"dataframe\">\n",
       "  <thead>\n",
       "    <tr style=\"text-align: right;\">\n",
       "      <th></th>\n",
       "      <th>Unnamed: 0</th>\n",
       "      <th>author</th>\n",
       "      <th>text</th>\n",
       "      <th>rating</th>\n",
       "    </tr>\n",
       "  </thead>\n",
       "  <tbody>\n",
       "    <tr>\n",
       "      <th>0</th>\n",
       "      <td>0</td>\n",
       "      <td>Alexandre Luz</td>\n",
       "      <td>Tem excelente estrutura. As áreas comuns são a...</td>\n",
       "      <td>Positivo</td>\n",
       "    </tr>\n",
       "    <tr>\n",
       "      <th>1</th>\n",
       "      <td>1</td>\n",
       "      <td>Alexandre Luz</td>\n",
       "      <td>A cultura organizacional e do método de ensino...</td>\n",
       "      <td>Negativo</td>\n",
       "    </tr>\n",
       "    <tr>\n",
       "      <th>2</th>\n",
       "      <td>2</td>\n",
       "      <td>Miqueias Melo</td>\n",
       "      <td>Começando pela estrutura que é muito positiva,...</td>\n",
       "      <td>Positivo</td>\n",
       "    </tr>\n",
       "    <tr>\n",
       "      <th>3</th>\n",
       "      <td>3</td>\n",
       "      <td>Miqueias Melo</td>\n",
       "      <td>As vezes a falta de comunicação de alguns prof...</td>\n",
       "      <td>Negativo</td>\n",
       "    </tr>\n",
       "    <tr>\n",
       "      <th>4</th>\n",
       "      <td>4</td>\n",
       "      <td>Rubem Santos</td>\n",
       "      <td>A faculdade tem muitos pontos positivos sim. A...</td>\n",
       "      <td>Neutro</td>\n",
       "    </tr>\n",
       "    <tr>\n",
       "      <th>5</th>\n",
       "      <td>5</td>\n",
       "      <td>Rubem Santos</td>\n",
       "      <td>Para minhas experiência um dos piores pontos n...</td>\n",
       "      <td>Negativo</td>\n",
       "    </tr>\n",
       "    <tr>\n",
       "      <th>6</th>\n",
       "      <td>6</td>\n",
       "      <td>Sthefanny Andrade</td>\n",
       "      <td>A estrutura do prédio é boa, o local é seguro ...</td>\n",
       "      <td>Positivo</td>\n",
       "    </tr>\n",
       "    <tr>\n",
       "      <th>7</th>\n",
       "      <td>7</td>\n",
       "      <td>Sthefanny Andrade</td>\n",
       "      <td>Por aspecto negativo, cabe salientar que com o...</td>\n",
       "      <td>Negativo</td>\n",
       "    </tr>\n",
       "    <tr>\n",
       "      <th>8</th>\n",
       "      <td>8</td>\n",
       "      <td>Gleidson Barbosa</td>\n",
       "      <td>Salas espaçosas, no geral. algumas um pouco me...</td>\n",
       "      <td>Neutro</td>\n",
       "    </tr>\n",
       "    <tr>\n",
       "      <th>9</th>\n",
       "      <td>9</td>\n",
       "      <td>Gleidson Barbosa</td>\n",
       "      <td>Como ponto negativo as salas não possuem ar co...</td>\n",
       "      <td>Negativo</td>\n",
       "    </tr>\n",
       "  </tbody>\n",
       "</table>\n",
       "</div>"
      ],
      "text/plain": [
       "   Unnamed: 0             author  \\\n",
       "0           0      Alexandre Luz   \n",
       "1           1      Alexandre Luz   \n",
       "2           2      Miqueias Melo   \n",
       "3           3      Miqueias Melo   \n",
       "4           4       Rubem Santos   \n",
       "5           5       Rubem Santos   \n",
       "6           6  Sthefanny Andrade   \n",
       "7           7  Sthefanny Andrade   \n",
       "8           8   Gleidson Barbosa   \n",
       "9           9   Gleidson Barbosa   \n",
       "\n",
       "                                                text    rating  \n",
       "0  Tem excelente estrutura. As áreas comuns são a...  Positivo  \n",
       "1  A cultura organizacional e do método de ensino...  Negativo  \n",
       "2  Começando pela estrutura que é muito positiva,...  Positivo  \n",
       "3  As vezes a falta de comunicação de alguns prof...  Negativo  \n",
       "4  A faculdade tem muitos pontos positivos sim. A...    Neutro  \n",
       "5  Para minhas experiência um dos piores pontos n...  Negativo  \n",
       "6  A estrutura do prédio é boa, o local é seguro ...  Positivo  \n",
       "7  Por aspecto negativo, cabe salientar que com o...  Negativo  \n",
       "8  Salas espaçosas, no geral. algumas um pouco me...    Neutro  \n",
       "9  Como ponto negativo as salas não possuem ar co...  Negativo  "
      ]
     },
     "execution_count": 67,
     "metadata": {},
     "output_type": "execute_result"
    }
   ],
   "source": [
    "df.head(10)"
   ]
  },
  {
   "cell_type": "code",
   "execution_count": 64,
   "id": "c93adff1-c632-44bb-a4d5-b17cc67784de",
   "metadata": {},
   "outputs": [
    {
     "data": {
      "text/plain": [
       "rating\n",
       "Negativo    4010\n",
       "Positivo    3206\n",
       "Neutro       804\n",
       "Name: count, dtype: int64"
      ]
     },
     "execution_count": 64,
     "metadata": {},
     "output_type": "execute_result"
    }
   ],
   "source": [
    "df.rating.value_counts()"
   ]
  },
  {
   "cell_type": "code",
   "execution_count": 66,
   "id": "4a425fd2-46b6-4c2b-9c26-b0c0997bd75e",
   "metadata": {},
   "outputs": [
    {
     "data": {
      "text/plain": [
       "<Axes: xlabel='rating'>"
      ]
     },
     "execution_count": 66,
     "metadata": {},
     "output_type": "execute_result"
    },
    {
     "data": {
      "image/png": "[encoded data removed]",
      "text/plain": [
       "<Figure size 640x480 with 1 Axes>"
      ]
     },
     "metadata": {},
     "output_type": "display_data"
    }
   ],
   "source": [
    "%matplotlib inline\n",
    "df.rating.value_counts().plot(kind='bar')"
   ]
  },
  {
   "cell_type": "code",
   "execution_count": 65,
   "id": "db27975e-0276-430c-b28b-634dce7ed84b",
   "metadata": {},
   "outputs": [],
   "source": [
    "texto = df['text'].values\n",
    "classificacao = df['rating'].values"
   ]
  },
  {
   "cell_type": "code",
   "execution_count": 72,
   "id": "75cab5a7-eab7-4ac1-93ba-913b103f1145",
   "metadata": {},
   "outputs": [
    {
     "data": {
      "text/plain": [
       "numpy.ndarray"
      ]
     },
     "execution_count": 72,
     "metadata": {},
     "output_type": "execute_result"
    }
   ],
   "source": [
    "type(texto)\n",
    "type(classificacao)"
   ]
  },
  {
   "cell_type": "markdown",
   "id": "2b361376-e94b-4d14-a0fa-e656b32486b4",
   "metadata": {},
   "source": [
    "# Bag of Words (BoW) - Processo de Vetorização\r\n",
    "\r\n",
    "## 1. Tokenização:\r\n",
    "\r\n",
    "O primeiro passo é dividir o texto em unidades menores chamadas \"tokens\". Em BoW, os tokens geralmente são palavras, mas podem ser n-gramas ou até mesmo caracteres, dependendo da granularidade desejada.\r\n",
    "\r\n",
    "**Exemplo:**\r\n",
    "\r\n",
    "Texto: \"A análise de sentimentos é uma parte interessante do processamento de linguagem natural.\"\r\n",
    "\r\n",
    "Tokens: [\"A\", \"análise\", \"de\", \"sentimentos\", \"é\", \"uma\", \"parte\", \"interessante\", \"do\", \"processamento\", \"de\", \"linguagem\", \"natural\"]\r\n",
    "\r\n",
    "\r\n",
    "## 2. Construção do Vocabulário:\r\n",
    "\r\n",
    "Em seguida, cria-se um vocabulário único a partir de todos os tokens encontrados no corpus (conjunto de documentos). Cada palavra única no vocabulário recebe um índice único.\r\n",
    "\r\n",
    "**Exemplo:**\r\n",
    "\r\n",
    "Vocabulário: {\"A\": 0, \"análise\": 1, \"de\": 2, \"sentimentos\": 3, \"é\": 4, \"uma\": 5, \"parte\": 6, \"interessante\": 7, \"do\": 8, \"processamento\": 9, \"linguagem\": 10, \"natural\":11}\r\n",
    "\r\n",
    "## 3. Contagem de Ocorrências:\r\n",
    "\r\n",
    "Para cada documento, conta-se quantas vezes cada palavra do vocabulário aparece no documento. Essa contagem é armazenada em um vetor\r\n",
    "\r\n",
    "**Exemplo:**\r\n",
    "\r\n",
    "Vetor do Documento: [1, 1, 2, 1, 1, 1, 1, 1, 1, 1, 1, 1]\r\n",
    "\r\n",
    "Este vetor representa a contagem de ocorrências de cada palavra no documento em relação ao vocabulário.\r\n",
    "\r\n",
    "## 4. Vetorização Final:\r\n",
    "\r\n",
    "O conjunto de vetores resultante, um para cada documento, forma a representação final do BoW para o corpus.\r\n",
    "\r\n",
    "**Exemplo (Dois Documentos):**\r\n",
    "\r\n",
    "Documento 1: [1, 2, 1, 1, 1, 1, 1, 1, 1, 1, 1]\r\n",
    "Documento 2: [0, 2, 1, 0, 2, 1, 0, 1, 0, 2, 1, 1]\r\n",
    "\r\n",
    "Cada posição no vetor representa a contagem de ocorrências de uma palavra específica no documento.\r\n",
    "\r\n",
    "## Considerações Finais:\r\n",
    "\r\n",
    "- BoW perde a ordem das palavras e considera apenas a presença ou ausência delas.\r\n",
    "- Pode resultar em vetores esparsos, especialmente em grandes vocabulários.\r\n",
    "- Pode ser usadgoritmos de aprendizado.\r\n",
    ".\r\n",
    "tos):**\r\n",
    "lo:**\r\n",
    ":**\r\n",
    "]\n"
   ]
  },
  {
   "cell_type": "code",
   "execution_count": 115,
   "id": "dd17b7d4-5cc7-4614-a2a0-482ffc219a69",
   "metadata": {},
   "outputs": [],
   "source": [
    "testes = ['Essa faculdade está um lixo', 'Essa faculdade é boa', 'Essa faculdade não é boa', 'Não sei se amo ou odeio essa faculdade', 'Amo a UNIP', 'Não', 'Sim', 'Talvez']"
   ]
  },
  {
   "cell_type": "code",
   "execution_count": 116,
   "id": "7bafd82c-9238-4f86-bb27-bfe1ff70ba1e",
   "metadata": {},
   "outputs": [
    {
     "name": "stdout",
     "output_type": "stream",
     "text": [
      "   essa  faculdade  está  um  lixo  boa  não  sei  se  amo  ou  odeio  unip  \\\n",
      "0     0          0     1   1     1    1    0    0   0    0   0      0     0   \n",
      "1     0          1     1   0     1    0    0    0   0    0   0      0     0   \n",
      "2     0          1     1   0     1    0    1    0   0    0   0      0     0   \n",
      "3     1          0     1   0     1    0    1    1   1    1   1      0     0   \n",
      "4     1          0     0   0     0    0    0    0   0    0   0      0     0   \n",
      "5     0          0     0   0     0    0    1    0   0    0   0      0     0   \n",
      "6     0          0     0   0     0    0    0    0   0    0   0      1     0   \n",
      "7     0          0     0   0     0    0    0    0   0    0   0      0     1   \n",
      "\n",
      "   sim  talvez  \n",
      "0    1       0  \n",
      "1    0       0  \n",
      "2    0       0  \n",
      "3    0       0  \n",
      "4    0       1  \n",
      "5    0       0  \n",
      "6    0       0  \n",
      "7    0       0  \n"
     ]
    }
   ],
   "source": [
    "unigram_vectorizer = CountVectorizer()\n",
    "test_matrix = unigram_vectorizer.fit_transform(testes)\n",
    "count_array = test_matrix.toarray()\n",
    "df = pd.DataFrame(data=count_array,columns = unigram_vectorizer.vocabulary_.keys())\n",
    "print(df)"
   ]
  },
  {
   "cell_type": "code",
   "execution_count": 117,
   "id": "129bae15-412c-48c7-8aa1-09fbbc158ebb",
   "metadata": {},
   "outputs": [
    {
     "name": "stdout",
     "output_type": "stream",
     "text": [
      "   essa faculdade  faculdade está  está um  um lixo  faculdade boa  \\\n",
      "0               0               0        1        1              0   \n",
      "1               0               0        1        0              1   \n",
      "2               0               0        1        0              0   \n",
      "3               1               0        1        0              0   \n",
      "4               0               1        0        0              0   \n",
      "5               0               0        0        0              0   \n",
      "6               0               0        0        0              0   \n",
      "7               0               0        0        0              0   \n",
      "\n",
      "   faculdade não  não boa  não sei  sei se  se amo  amo ou  ou odeio  \\\n",
      "0              1        0        0       0       0       0         0   \n",
      "1              0        0        0       0       0       0         0   \n",
      "2              0        1        1       0       0       0         0   \n",
      "3              0        0        0       1       1       1         1   \n",
      "4              0        0        0       0       0       0         0   \n",
      "5              0        0        0       0       0       0         0   \n",
      "6              0        0        0       0       0       0         0   \n",
      "7              0        0        0       0       0       0         0   \n",
      "\n",
      "   odeio essa  amo unip  \n",
      "0           0         1  \n",
      "1           0         0  \n",
      "2           0         0  \n",
      "3           1         0  \n",
      "4           0         0  \n",
      "5           0         0  \n",
      "6           0         0  \n",
      "7           0         0  \n"
     ]
    }
   ],
   "source": [
    "bigram_vectorizer = CountVectorizer(ngram_range=(2,2))\n",
    "test_matrix_bigram = bigram_vectorizer.fit_transform(testes)\n",
    "count_array = test_matrix_bigram.toarray()\n",
    "df = pd.DataFrame(data=count_array,columns = bigram_vectorizer.vocabulary_.keys())\n",
    "print(df)"
   ]
  },
  {
   "cell_type": "code",
   "execution_count": 133,
   "id": "5fc44b78-baa4-4988-ac31-44901050eef7",
   "metadata": {},
   "outputs": [],
   "source": [
    "unigram_text = unigram_vectorizer.fit_transform(texto)"
   ]
  },
  {
   "cell_type": "code",
   "execution_count": 140,
   "id": "fe7e8d02-2892-44ea-bbfa-9e21c2157622",
   "metadata": {},
   "outputs": [],
   "source": [
    "bigram_text = bigram_vectorizer.fit_transform(texto)"
   ]
  },
  {
   "cell_type": "code",
   "execution_count": 134,
   "id": "557cee0a-acc4-4d60-9cde-3a87b1c30691",
   "metadata": {},
   "outputs": [
    {
     "data": {
      "text/html": [
       "<style>#sk-container-id-15 {color: black;}#sk-container-id-15 pre{padding: 0;}#sk-container-id-15 div.sk-toggleable {background-color: white;}#sk-container-id-15 label.sk-toggleable__label {cursor: pointer;display: block;width: 100%;margin-bottom: 0;padding: 0.3em;box-sizing: border-box;text-align: center;}#sk-container-id-15 label.sk-toggleable__label-arrow:before {content: \"▸\";float: left;margin-right: 0.25em;color: #696969;}#sk-container-id-15 label.sk-toggleable__label-arrow:hover:before {color: black;}#sk-container-id-15 div.sk-estimator:hover label.sk-toggleable__label-arrow:before {color: black;}#sk-container-id-15 div.sk-toggleable__content {max-height: 0;max-width: 0;overflow: hidden;text-align: left;background-color: #f0f8ff;}#sk-container-id-15 div.sk-toggleable__content pre {margin: 0.2em;color: black;border-radius: 0.25em;background-color: #f0f8ff;}#sk-container-id-15 input.sk-toggleable__control:checked~div.sk-toggleable__content {max-height: 200px;max-width: 100%;overflow: auto;}#sk-container-id-15 input.sk-toggleable__control:checked~label.sk-toggleable__label-arrow:before {content: \"▾\";}#sk-container-id-15 div.sk-estimator input.sk-toggleable__control:checked~label.sk-toggleable__label {background-color: #d4ebff;}#sk-container-id-15 div.sk-label input.sk-toggleable__control:checked~label.sk-toggleable__label {background-color: #d4ebff;}#sk-container-id-15 input.sk-hidden--visually {border: 0;clip: rect(1px 1px 1px 1px);clip: rect(1px, 1px, 1px, 1px);height: 1px;margin: -1px;overflow: hidden;padding: 0;position: absolute;width: 1px;}#sk-container-id-15 div.sk-estimator {font-family: monospace;background-color: #f0f8ff;border: 1px dotted black;border-radius: 0.25em;box-sizing: border-box;margin-bottom: 0.5em;}#sk-container-id-15 div.sk-estimator:hover {background-color: #d4ebff;}#sk-container-id-15 div.sk-parallel-item::after {content: \"\";width: 100%;border-bottom: 1px solid gray;flex-grow: 1;}#sk-container-id-15 div.sk-label:hover label.sk-toggleable__label {background-color: #d4ebff;}#sk-container-id-15 div.sk-serial::before {content: \"\";position: absolute;border-left: 1px solid gray;box-sizing: border-box;top: 0;bottom: 0;left: 50%;z-index: 0;}#sk-container-id-15 div.sk-serial {display: flex;flex-direction: column;align-items: center;background-color: white;padding-right: 0.2em;padding-left: 0.2em;position: relative;}#sk-container-id-15 div.sk-item {position: relative;z-index: 1;}#sk-container-id-15 div.sk-parallel {display: flex;align-items: stretch;justify-content: center;background-color: white;position: relative;}#sk-container-id-15 div.sk-item::before, #sk-container-id-15 div.sk-parallel-item::before {content: \"\";position: absolute;border-left: 1px solid gray;box-sizing: border-box;top: 0;bottom: 0;left: 50%;z-index: -1;}#sk-container-id-15 div.sk-parallel-item {display: flex;flex-direction: column;z-index: 1;position: relative;background-color: white;}#sk-container-id-15 div.sk-parallel-item:first-child::after {align-self: flex-end;width: 50%;}#sk-container-id-15 div.sk-parallel-item:last-child::after {align-self: flex-start;width: 50%;}#sk-container-id-15 div.sk-parallel-item:only-child::after {width: 0;}#sk-container-id-15 div.sk-dashed-wrapped {border: 1px dashed gray;margin: 0 0.4em 0.5em 0.4em;box-sizing: border-box;padding-bottom: 0.4em;background-color: white;}#sk-container-id-15 div.sk-label label {font-family: monospace;font-weight: bold;display: inline-block;line-height: 1.2em;}#sk-container-id-15 div.sk-label-container {text-align: center;}#sk-container-id-15 div.sk-container {/* jupyter's `normalize.less` sets `[hidden] { display: none; }` but bootstrap.min.css set `[hidden] { display: none !important; }` so we also need the `!important` here to be able to override the default hidden behavior on the sphinx rendered scikit-learn.org. See: https://github.com/scikit-learn/scikit-learn/issues/21755 */display: inline-block !important;position: relative;}#sk-container-id-15 div.sk-text-repr-fallback {display: none;}</style><div id=\"sk-container-id-15\" class=\"sk-top-container\"><div class=\"sk-text-repr-fallback\"><pre>MultinomialNB()</pre><b>In a Jupyter environment, please rerun this cell to show the HTML representation or trust the notebook. <br />On GitHub, the HTML representation is unable to render, please try loading this page with nbviewer.org.</b></div><div class=\"sk-container\" hidden><div class=\"sk-item\"><div class=\"sk-estimator sk-toggleable\"><input class=\"sk-toggleable__control sk-hidden--visually\" id=\"sk-estimator-id-19\" type=\"checkbox\" checked><label for=\"sk-estimator-id-19\" class=\"sk-toggleable__label sk-toggleable__label-arrow\">MultinomialNB</label><div class=\"sk-toggleable__content\"><pre>MultinomialNB()</pre></div></div></div></div></div>"
      ],
      "text/plain": [
       "MultinomialNB()"
      ]
     },
     "execution_count": 134,
     "metadata": {},
     "output_type": "execute_result"
    }
   ],
   "source": [
    "unigram_model = MultinomialNB()\n",
    "unigram_model.fit(unigram_text, classificacao)"
   ]
  },
  {
   "cell_type": "code",
   "execution_count": 144,
   "id": "6f9915a7-835a-4a71-9d59-018ede718220",
   "metadata": {},
   "outputs": [
    {
     "data": {
      "text/html": [
       "<style>#sk-container-id-17 {color: black;}#sk-container-id-17 pre{padding: 0;}#sk-container-id-17 div.sk-toggleable {background-color: white;}#sk-container-id-17 label.sk-toggleable__label {cursor: pointer;display: block;width: 100%;margin-bottom: 0;padding: 0.3em;box-sizing: border-box;text-align: center;}#sk-container-id-17 label.sk-toggleable__label-arrow:before {content: \"▸\";float: left;margin-right: 0.25em;color: #696969;}#sk-container-id-17 label.sk-toggleable__label-arrow:hover:before {color: black;}#sk-container-id-17 div.sk-estimator:hover label.sk-toggleable__label-arrow:before {color: black;}#sk-container-id-17 div.sk-toggleable__content {max-height: 0;max-width: 0;overflow: hidden;text-align: left;background-color: #f0f8ff;}#sk-container-id-17 div.sk-toggleable__content pre {margin: 0.2em;color: black;border-radius: 0.25em;background-color: #f0f8ff;}#sk-container-id-17 input.sk-toggleable__control:checked~div.sk-toggleable__content {max-height: 200px;max-width: 100%;overflow: auto;}#sk-container-id-17 input.sk-toggleable__control:checked~label.sk-toggleable__label-arrow:before {content: \"▾\";}#sk-container-id-17 div.sk-estimator input.sk-toggleable__control:checked~label.sk-toggleable__label {background-color: #d4ebff;}#sk-container-id-17 div.sk-label input.sk-toggleable__control:checked~label.sk-toggleable__label {background-color: #d4ebff;}#sk-container-id-17 input.sk-hidden--visually {border: 0;clip: rect(1px 1px 1px 1px);clip: rect(1px, 1px, 1px, 1px);height: 1px;margin: -1px;overflow: hidden;padding: 0;position: absolute;width: 1px;}#sk-container-id-17 div.sk-estimator {font-family: monospace;background-color: #f0f8ff;border: 1px dotted black;border-radius: 0.25em;box-sizing: border-box;margin-bottom: 0.5em;}#sk-container-id-17 div.sk-estimator:hover {background-color: #d4ebff;}#sk-container-id-17 div.sk-parallel-item::after {content: \"\";width: 100%;border-bottom: 1px solid gray;flex-grow: 1;}#sk-container-id-17 div.sk-label:hover label.sk-toggleable__label {background-color: #d4ebff;}#sk-container-id-17 div.sk-serial::before {content: \"\";position: absolute;border-left: 1px solid gray;box-sizing: border-box;top: 0;bottom: 0;left: 50%;z-index: 0;}#sk-container-id-17 div.sk-serial {display: flex;flex-direction: column;align-items: center;background-color: white;padding-right: 0.2em;padding-left: 0.2em;position: relative;}#sk-container-id-17 div.sk-item {position: relative;z-index: 1;}#sk-container-id-17 div.sk-parallel {display: flex;align-items: stretch;justify-content: center;background-color: white;position: relative;}#sk-container-id-17 div.sk-item::before, #sk-container-id-17 div.sk-parallel-item::before {content: \"\";position: absolute;border-left: 1px solid gray;box-sizing: border-box;top: 0;bottom: 0;left: 50%;z-index: -1;}#sk-container-id-17 div.sk-parallel-item {display: flex;flex-direction: column;z-index: 1;position: relative;background-color: white;}#sk-container-id-17 div.sk-parallel-item:first-child::after {align-self: flex-end;width: 50%;}#sk-container-id-17 div.sk-parallel-item:last-child::after {align-self: flex-start;width: 50%;}#sk-container-id-17 div.sk-parallel-item:only-child::after {width: 0;}#sk-container-id-17 div.sk-dashed-wrapped {border: 1px dashed gray;margin: 0 0.4em 0.5em 0.4em;box-sizing: border-box;padding-bottom: 0.4em;background-color: white;}#sk-container-id-17 div.sk-label label {font-family: monospace;font-weight: bold;display: inline-block;line-height: 1.2em;}#sk-container-id-17 div.sk-label-container {text-align: center;}#sk-container-id-17 div.sk-container {/* jupyter's `normalize.less` sets `[hidden] { display: none; }` but bootstrap.min.css set `[hidden] { display: none !important; }` so we also need the `!important` here to be able to override the default hidden behavior on the sphinx rendered scikit-learn.org. See: https://github.com/scikit-learn/scikit-learn/issues/21755 */display: inline-block !important;position: relative;}#sk-container-id-17 div.sk-text-repr-fallback {display: none;}</style><div id=\"sk-container-id-17\" class=\"sk-top-container\"><div class=\"sk-text-repr-fallback\"><pre>MultinomialNB()</pre><b>In a Jupyter environment, please rerun this cell to show the HTML representation or trust the notebook. <br />On GitHub, the HTML representation is unable to render, please try loading this page with nbviewer.org.</b></div><div class=\"sk-container\" hidden><div class=\"sk-item\"><div class=\"sk-estimator sk-toggleable\"><input class=\"sk-toggleable__control sk-hidden--visually\" id=\"sk-estimator-id-21\" type=\"checkbox\" checked><label for=\"sk-estimator-id-21\" class=\"sk-toggleable__label sk-toggleable__label-arrow\">MultinomialNB</label><div class=\"sk-toggleable__content\"><pre>MultinomialNB()</pre></div></div></div></div></div>"
      ],
      "text/plain": [
       "MultinomialNB()"
      ]
     },
     "execution_count": 144,
     "metadata": {},
     "output_type": "execute_result"
    }
   ],
   "source": [
    "bigram_model = MultinomialNB()\n",
    "bigram_model.fit(bigram_text, classificacao)"
   ]
  },
  {
   "cell_type": "code",
   "execution_count": 135,
   "id": "4a0bb014-329c-4ab8-a7f3-091a60a29f7d",
   "metadata": {},
   "outputs": [
    {
     "data": {
      "text/plain": [
       "(8020, 10005)"
      ]
     },
     "execution_count": 135,
     "metadata": {},
     "output_type": "execute_result"
    }
   ],
   "source": [
    "unigram_text.shape"
   ]
  },
  {
   "cell_type": "code",
   "execution_count": 145,
   "id": "9231895b-46bf-4e29-98a0-7f3de2199b4e",
   "metadata": {},
   "outputs": [
    {
     "data": {
      "text/plain": [
       "(8020, 80199)"
      ]
     },
     "execution_count": 145,
     "metadata": {},
     "output_type": "execute_result"
    }
   ],
   "source": [
    "bigram_text.shape"
   ]
  },
  {
   "cell_type": "code",
   "execution_count": 138,
   "id": "599efe80-4820-4bf0-94af-003f36154dcd",
   "metadata": {},
   "outputs": [],
   "source": [
    "unigram_tests = unigram_vectorizer.transform(testes)"
   ]
  },
  {
   "cell_type": "code",
   "execution_count": 146,
   "id": "8cd7a165-4e33-4605-be9a-9eb083f8e7b9",
   "metadata": {},
   "outputs": [],
   "source": [
    "bigram_tests = bigram_vectorizer.transform(testes)"
   ]
  },
  {
   "cell_type": "code",
   "execution_count": 125,
   "id": "a338552e-7efd-4990-a04f-b58a1f0f3a50",
   "metadata": {},
   "outputs": [],
   "source": [
    "unigram_results = cross_val_predict(unigram_model, unigram_text, classificacao, cv=10)"
   ]
  },
  {
   "cell_type": "code",
   "execution_count": 126,
   "id": "b7582942-fe3c-44b7-b8a2-ba6fb9270e89",
   "metadata": {},
   "outputs": [],
   "source": [
    "bigram_results = cross_val_predict(bigram_model, bigram_text, classificacao, cv=10)"
   ]
  },
  {
   "cell_type": "code",
   "execution_count": 127,
   "id": "e1fb692e-9aa0-4d30-af53-ee3b68a4c223",
   "metadata": {},
   "outputs": [
    {
     "name": "stdout",
     "output_type": "stream",
     "text": [
      "0.8634663341645885\n"
     ]
    }
   ],
   "source": [
    "print(metrics.accuracy_score(classificacao, unigram_results))"
   ]
  },
  {
   "cell_type": "code",
   "execution_count": 128,
   "id": "f74bde25-63de-43ab-b96f-c4c609de5014",
   "metadata": {},
   "outputs": [
    {
     "name": "stdout",
     "output_type": "stream",
     "text": [
      "0.8255610972568579\n"
     ]
    }
   ],
   "source": [
    "print(metrics.accuracy_score(classificacao, bigram_results))"
   ]
  },
  {
   "cell_type": "code",
   "execution_count": 139,
   "id": "965a5884-005a-4f89-a7cd-06acf6bc8ecb",
   "metadata": {},
   "outputs": [
    {
     "name": "stdout",
     "output_type": "stream",
     "text": [
      "Essa faculdade está um lixo || Negativo\n",
      "Essa faculdade é boa || Positivo\n",
      "Essa faculdade não é boa || Positivo\n",
      "Não sei se amo ou odeio essa faculdade || Negativo\n",
      "Amo a UNIP || Positivo\n",
      "Não || Negativo\n",
      "Sim || Negativo\n",
      "Talvez || Negativo\n"
     ]
    }
   ],
   "source": [
    "for t, c in zip(testes, unigram_model.predict(unigram_tests)):\n",
    "    print(f'{t} || {c}')"
   ]
  },
  {
   "cell_type": "code",
   "execution_count": 147,
   "id": "3f0e9944-20b5-4dfd-a0b1-00379ec84f1f",
   "metadata": {},
   "outputs": [
    {
     "name": "stdout",
     "output_type": "stream",
     "text": [
      "Essa faculdade está um lixo || Negativo\n",
      "Essa faculdade é boa || Positivo\n",
      "Essa faculdade não é boa || Negativo\n",
      "Não sei se amo ou odeio essa faculdade || Negativo\n",
      "Amo a UNIP || Positivo\n",
      "Não || Negativo\n",
      "Sim || Negativo\n",
      "Talvez || Negativo\n"
     ]
    }
   ],
   "source": [
    "for t, c in zip(testes, bigram_model.predict(bigram_tests)):\n",
    "    print(f'{t} || {c}')"
   ]
  },
  {
   "cell_type": "code",
   "execution_count": 151,
   "id": "c4a8df5b-dc03-40e0-b173-6ea5a7851271",
   "metadata": {},
   "outputs": [
    {
     "name": "stdout",
     "output_type": "stream",
     "text": [
      "['Negativo' 'Neutro' 'Positivo']\n"
     ]
    },
    {
     "data": {
      "text/plain": [
       "array([[0.69, 0.01, 0.3 ],\n",
       "       [0.1 , 0.08, 0.83],\n",
       "       [0.38, 0.05, 0.57],\n",
       "       [0.91, 0.  , 0.08],\n",
       "       [0.07, 0.02, 0.91],\n",
       "       [0.85, 0.03, 0.12],\n",
       "       [0.73, 0.08, 0.2 ],\n",
       "       [0.86, 0.06, 0.08]])"
      ]
     },
     "execution_count": 151,
     "metadata": {},
     "output_type": "execute_result"
    }
   ],
   "source": [
    "print(unigram_model.classes_)\n",
    "unigram_model.predict_proba(unigram_tests).round(2)"
   ]
  },
  {
   "cell_type": "code",
   "execution_count": 152,
   "id": "0ba97deb-b8cc-4ed5-a28a-0ba5203ecce1",
   "metadata": {},
   "outputs": [
    {
     "name": "stdout",
     "output_type": "stream",
     "text": [
      "['Negativo' 'Neutro' 'Positivo']\n"
     ]
    },
    {
     "data": {
      "text/plain": [
       "array([[0.69, 0.02, 0.3 ],\n",
       "       [0.06, 0.06, 0.88],\n",
       "       [0.94, 0.  , 0.06],\n",
       "       [0.64, 0.02, 0.33],\n",
       "       [0.39, 0.07, 0.54],\n",
       "       [0.5 , 0.1 , 0.4 ],\n",
       "       [0.5 , 0.1 , 0.4 ],\n",
       "       [0.5 , 0.1 , 0.4 ]])"
      ]
     },
     "execution_count": 152,
     "metadata": {},
     "output_type": "execute_result"
    }
   ],
   "source": [
    "print(bigram_model.classes_)\n",
    "bigram_model.predict_proba(bigram_tests).round(2)"
   ]
  },
  {
   "cell_type": "code",
   "execution_count": 153,
   "id": "707364c0-924e-48d3-8d8a-4858f065ee3b",
   "metadata": {},
   "outputs": [],
   "source": [
    "def add_neg(texto):\n",
    "    neg = ['não', 'not', 'Não']\n",
    "    neg_detected = False\n",
    "    res = []\n",
    "    words = texto.split()\n",
    "    for p in words:\n",
    "        p = p.lower()\n",
    "        if neg_detected == True:\n",
    "            p = p + '_NEG'\n",
    "        if p in neg:\n",
    "            neg_detected = True\n",
    "        res.append(p)\n",
    "    return(\" \".join(res))"
   ]
  },
  {
   "cell_type": "code",
   "execution_count": 154,
   "id": "dd2e0cb2-7524-4255-8487-86ebdbb0b40b",
   "metadata": {},
   "outputs": [
    {
     "data": {
      "text/plain": [
       "'eu gosto da faculade e gostaria de continuar estudando aqui'"
      ]
     },
     "execution_count": 154,
     "metadata": {},
     "output_type": "execute_result"
    }
   ],
   "source": [
    "add_neg('Eu gosto da faculade e gostaria de continuar estudando aqui')"
   ]
  },
  {
   "cell_type": "code",
   "execution_count": 155,
   "id": "fdb8fb58-5984-4237-b799-0bac9eb45b50",
   "metadata": {},
   "outputs": [
    {
     "data": {
      "text/plain": [
       "'eu não gosto_NEG da_NEG faculdade_NEG'"
      ]
     },
     "execution_count": 155,
     "metadata": {},
     "output_type": "execute_result"
    }
   ],
   "source": [
    "add_neg('Eu não gosto da faculdade')"
   ]
  },
  {
   "cell_type": "code",
   "execution_count": 156,
   "id": "e691a22a-de4e-4469-b1ef-3ced570837e5",
   "metadata": {},
   "outputs": [],
   "source": [
    "simple_pipeline = Pipeline([('counts', CountVectorizer()), ('classifier', MultinomialNB())])"
   ]
  },
  {
   "cell_type": "code",
   "execution_count": 157,
   "id": "f92d7e88-2e3f-457e-a1fe-ac2bbaef771b",
   "metadata": {},
   "outputs": [],
   "source": [
    "neg_pipeline = Pipeline([('counts', CountVectorizer(tokenizer=lambda text: add_neg(text))), ('classifier', MultinomialNB())])"
   ]
  },
  {
   "cell_type": "code",
   "execution_count": 158,
   "id": "414576de-04a5-4188-9640-335e1fd46f97",
   "metadata": {},
   "outputs": [
    {
     "data": {
      "text/html": [
       "<style>#sk-container-id-18 {color: black;}#sk-container-id-18 pre{padding: 0;}#sk-container-id-18 div.sk-toggleable {background-color: white;}#sk-container-id-18 label.sk-toggleable__label {cursor: pointer;display: block;width: 100%;margin-bottom: 0;padding: 0.3em;box-sizing: border-box;text-align: center;}#sk-container-id-18 label.sk-toggleable__label-arrow:before {content: \"▸\";float: left;margin-right: 0.25em;color: #696969;}#sk-container-id-18 label.sk-toggleable__label-arrow:hover:before {color: black;}#sk-container-id-18 div.sk-estimator:hover label.sk-toggleable__label-arrow:before {color: black;}#sk-container-id-18 div.sk-toggleable__content {max-height: 0;max-width: 0;overflow: hidden;text-align: left;background-color: #f0f8ff;}#sk-container-id-18 div.sk-toggleable__content pre {margin: 0.2em;color: black;border-radius: 0.25em;background-color: #f0f8ff;}#sk-container-id-18 input.sk-toggleable__control:checked~div.sk-toggleable__content {max-height: 200px;max-width: 100%;overflow: auto;}#sk-container-id-18 input.sk-toggleable__control:checked~label.sk-toggleable__label-arrow:before {content: \"▾\";}#sk-container-id-18 div.sk-estimator input.sk-toggleable__control:checked~label.sk-toggleable__label {background-color: #d4ebff;}#sk-container-id-18 div.sk-label input.sk-toggleable__control:checked~label.sk-toggleable__label {background-color: #d4ebff;}#sk-container-id-18 input.sk-hidden--visually {border: 0;clip: rect(1px 1px 1px 1px);clip: rect(1px, 1px, 1px, 1px);height: 1px;margin: -1px;overflow: hidden;padding: 0;position: absolute;width: 1px;}#sk-container-id-18 div.sk-estimator {font-family: monospace;background-color: #f0f8ff;border: 1px dotted black;border-radius: 0.25em;box-sizing: border-box;margin-bottom: 0.5em;}#sk-container-id-18 div.sk-estimator:hover {background-color: #d4ebff;}#sk-container-id-18 div.sk-parallel-item::after {content: \"\";width: 100%;border-bottom: 1px solid gray;flex-grow: 1;}#sk-container-id-18 div.sk-label:hover label.sk-toggleable__label {background-color: #d4ebff;}#sk-container-id-18 div.sk-serial::before {content: \"\";position: absolute;border-left: 1px solid gray;box-sizing: border-box;top: 0;bottom: 0;left: 50%;z-index: 0;}#sk-container-id-18 div.sk-serial {display: flex;flex-direction: column;align-items: center;background-color: white;padding-right: 0.2em;padding-left: 0.2em;position: relative;}#sk-container-id-18 div.sk-item {position: relative;z-index: 1;}#sk-container-id-18 div.sk-parallel {display: flex;align-items: stretch;justify-content: center;background-color: white;position: relative;}#sk-container-id-18 div.sk-item::before, #sk-container-id-18 div.sk-parallel-item::before {content: \"\";position: absolute;border-left: 1px solid gray;box-sizing: border-box;top: 0;bottom: 0;left: 50%;z-index: -1;}#sk-container-id-18 div.sk-parallel-item {display: flex;flex-direction: column;z-index: 1;position: relative;background-color: white;}#sk-container-id-18 div.sk-parallel-item:first-child::after {align-self: flex-end;width: 50%;}#sk-container-id-18 div.sk-parallel-item:last-child::after {align-self: flex-start;width: 50%;}#sk-container-id-18 div.sk-parallel-item:only-child::after {width: 0;}#sk-container-id-18 div.sk-dashed-wrapped {border: 1px dashed gray;margin: 0 0.4em 0.5em 0.4em;box-sizing: border-box;padding-bottom: 0.4em;background-color: white;}#sk-container-id-18 div.sk-label label {font-family: monospace;font-weight: bold;display: inline-block;line-height: 1.2em;}#sk-container-id-18 div.sk-label-container {text-align: center;}#sk-container-id-18 div.sk-container {/* jupyter's `normalize.less` sets `[hidden] { display: none; }` but bootstrap.min.css set `[hidden] { display: none !important; }` so we also need the `!important` here to be able to override the default hidden behavior on the sphinx rendered scikit-learn.org. See: https://github.com/scikit-learn/scikit-learn/issues/21755 */display: inline-block !important;position: relative;}#sk-container-id-18 div.sk-text-repr-fallback {display: none;}</style><div id=\"sk-container-id-18\" class=\"sk-top-container\"><div class=\"sk-text-repr-fallback\"><pre>Pipeline(steps=[(&#x27;counts&#x27;, CountVectorizer()), (&#x27;classifier&#x27;, MultinomialNB())])</pre><b>In a Jupyter environment, please rerun this cell to show the HTML representation or trust the notebook. <br />On GitHub, the HTML representation is unable to render, please try loading this page with nbviewer.org.</b></div><div class=\"sk-container\" hidden><div class=\"sk-item sk-dashed-wrapped\"><div class=\"sk-label-container\"><div class=\"sk-label sk-toggleable\"><input class=\"sk-toggleable__control sk-hidden--visually\" id=\"sk-estimator-id-22\" type=\"checkbox\" ><label for=\"sk-estimator-id-22\" class=\"sk-toggleable__label sk-toggleable__label-arrow\">Pipeline</label><div class=\"sk-toggleable__content\"><pre>Pipeline(steps=[(&#x27;counts&#x27;, CountVectorizer()), (&#x27;classifier&#x27;, MultinomialNB())])</pre></div></div></div><div class=\"sk-serial\"><div class=\"sk-item\"><div class=\"sk-estimator sk-toggleable\"><input class=\"sk-toggleable__control sk-hidden--visually\" id=\"sk-estimator-id-23\" type=\"checkbox\" ><label for=\"sk-estimator-id-23\" class=\"sk-toggleable__label sk-toggleable__label-arrow\">CountVectorizer</label><div class=\"sk-toggleable__content\"><pre>CountVectorizer()</pre></div></div></div><div class=\"sk-item\"><div class=\"sk-estimator sk-toggleable\"><input class=\"sk-toggleable__control sk-hidden--visually\" id=\"sk-estimator-id-24\" type=\"checkbox\" ><label for=\"sk-estimator-id-24\" class=\"sk-toggleable__label sk-toggleable__label-arrow\">MultinomialNB</label><div class=\"sk-toggleable__content\"><pre>MultinomialNB()</pre></div></div></div></div></div></div></div>"
      ],
      "text/plain": [
       "Pipeline(steps=[('counts', CountVectorizer()), ('classifier', MultinomialNB())])"
      ]
     },
     "execution_count": 158,
     "metadata": {},
     "output_type": "execute_result"
    }
   ],
   "source": [
    "simple_pipeline.fit(texto, classificacao)"
   ]
  },
  {
   "cell_type": "code",
   "execution_count": 159,
   "id": "956fdf0e-4559-452e-9ac0-2b3312d39b8b",
   "metadata": {},
   "outputs": [
    {
     "data": {
      "text/plain": [
       "[('counts', CountVectorizer()), ('classifier', MultinomialNB())]"
      ]
     },
     "execution_count": 159,
     "metadata": {},
     "output_type": "execute_result"
    }
   ],
   "source": [
    "simple_pipeline.steps"
   ]
  },
  {
   "cell_type": "code",
   "execution_count": 160,
   "id": "bbf9dcfb-040c-4b9b-9b5b-1a2fb06e19db",
   "metadata": {},
   "outputs": [
    {
     "data": {
      "text/html": [
       "<style>#sk-container-id-19 {color: black;}#sk-container-id-19 pre{padding: 0;}#sk-container-id-19 div.sk-toggleable {background-color: white;}#sk-container-id-19 label.sk-toggleable__label {cursor: pointer;display: block;width: 100%;margin-bottom: 0;padding: 0.3em;box-sizing: border-box;text-align: center;}#sk-container-id-19 label.sk-toggleable__label-arrow:before {content: \"▸\";float: left;margin-right: 0.25em;color: #696969;}#sk-container-id-19 label.sk-toggleable__label-arrow:hover:before {color: black;}#sk-container-id-19 div.sk-estimator:hover label.sk-toggleable__label-arrow:before {color: black;}#sk-container-id-19 div.sk-toggleable__content {max-height: 0;max-width: 0;overflow: hidden;text-align: left;background-color: #f0f8ff;}#sk-container-id-19 div.sk-toggleable__content pre {margin: 0.2em;color: black;border-radius: 0.25em;background-color: #f0f8ff;}#sk-container-id-19 input.sk-toggleable__control:checked~div.sk-toggleable__content {max-height: 200px;max-width: 100%;overflow: auto;}#sk-container-id-19 input.sk-toggleable__control:checked~label.sk-toggleable__label-arrow:before {content: \"▾\";}#sk-container-id-19 div.sk-estimator input.sk-toggleable__control:checked~label.sk-toggleable__label {background-color: #d4ebff;}#sk-container-id-19 div.sk-label input.sk-toggleable__control:checked~label.sk-toggleable__label {background-color: #d4ebff;}#sk-container-id-19 input.sk-hidden--visually {border: 0;clip: rect(1px 1px 1px 1px);clip: rect(1px, 1px, 1px, 1px);height: 1px;margin: -1px;overflow: hidden;padding: 0;position: absolute;width: 1px;}#sk-container-id-19 div.sk-estimator {font-family: monospace;background-color: #f0f8ff;border: 1px dotted black;border-radius: 0.25em;box-sizing: border-box;margin-bottom: 0.5em;}#sk-container-id-19 div.sk-estimator:hover {background-color: #d4ebff;}#sk-container-id-19 div.sk-parallel-item::after {content: \"\";width: 100%;border-bottom: 1px solid gray;flex-grow: 1;}#sk-container-id-19 div.sk-label:hover label.sk-toggleable__label {background-color: #d4ebff;}#sk-container-id-19 div.sk-serial::before {content: \"\";position: absolute;border-left: 1px solid gray;box-sizing: border-box;top: 0;bottom: 0;left: 50%;z-index: 0;}#sk-container-id-19 div.sk-serial {display: flex;flex-direction: column;align-items: center;background-color: white;padding-right: 0.2em;padding-left: 0.2em;position: relative;}#sk-container-id-19 div.sk-item {position: relative;z-index: 1;}#sk-container-id-19 div.sk-parallel {display: flex;align-items: stretch;justify-content: center;background-color: white;position: relative;}#sk-container-id-19 div.sk-item::before, #sk-container-id-19 div.sk-parallel-item::before {content: \"\";position: absolute;border-left: 1px solid gray;box-sizing: border-box;top: 0;bottom: 0;left: 50%;z-index: -1;}#sk-container-id-19 div.sk-parallel-item {display: flex;flex-direction: column;z-index: 1;position: relative;background-color: white;}#sk-container-id-19 div.sk-parallel-item:first-child::after {align-self: flex-end;width: 50%;}#sk-container-id-19 div.sk-parallel-item:last-child::after {align-self: flex-start;width: 50%;}#sk-container-id-19 div.sk-parallel-item:only-child::after {width: 0;}#sk-container-id-19 div.sk-dashed-wrapped {border: 1px dashed gray;margin: 0 0.4em 0.5em 0.4em;box-sizing: border-box;padding-bottom: 0.4em;background-color: white;}#sk-container-id-19 div.sk-label label {font-family: monospace;font-weight: bold;display: inline-block;line-height: 1.2em;}#sk-container-id-19 div.sk-label-container {text-align: center;}#sk-container-id-19 div.sk-container {/* jupyter's `normalize.less` sets `[hidden] { display: none; }` but bootstrap.min.css set `[hidden] { display: none !important; }` so we also need the `!important` here to be able to override the default hidden behavior on the sphinx rendered scikit-learn.org. See: https://github.com/scikit-learn/scikit-learn/issues/21755 */display: inline-block !important;position: relative;}#sk-container-id-19 div.sk-text-repr-fallback {display: none;}</style><div id=\"sk-container-id-19\" class=\"sk-top-container\"><div class=\"sk-text-repr-fallback\"><pre>Pipeline(steps=[(&#x27;counts&#x27;,\n",
       "                 CountVectorizer(tokenizer=&lt;function &lt;lambda&gt; at 0x000001A3E6429FC0&gt;)),\n",
       "                (&#x27;classifier&#x27;, MultinomialNB())])</pre><b>In a Jupyter environment, please rerun this cell to show the HTML representation or trust the notebook. <br />On GitHub, the HTML representation is unable to render, please try loading this page with nbviewer.org.</b></div><div class=\"sk-container\" hidden><div class=\"sk-item sk-dashed-wrapped\"><div class=\"sk-label-container\"><div class=\"sk-label sk-toggleable\"><input class=\"sk-toggleable__control sk-hidden--visually\" id=\"sk-estimator-id-25\" type=\"checkbox\" ><label for=\"sk-estimator-id-25\" class=\"sk-toggleable__label sk-toggleable__label-arrow\">Pipeline</label><div class=\"sk-toggleable__content\"><pre>Pipeline(steps=[(&#x27;counts&#x27;,\n",
       "                 CountVectorizer(tokenizer=&lt;function &lt;lambda&gt; at 0x000001A3E6429FC0&gt;)),\n",
       "                (&#x27;classifier&#x27;, MultinomialNB())])</pre></div></div></div><div class=\"sk-serial\"><div class=\"sk-item\"><div class=\"sk-estimator sk-toggleable\"><input class=\"sk-toggleable__control sk-hidden--visually\" id=\"sk-estimator-id-26\" type=\"checkbox\" ><label for=\"sk-estimator-id-26\" class=\"sk-toggleable__label sk-toggleable__label-arrow\">CountVectorizer</label><div class=\"sk-toggleable__content\"><pre>CountVectorizer(tokenizer=&lt;function &lt;lambda&gt; at 0x000001A3E6429FC0&gt;)</pre></div></div></div><div class=\"sk-item\"><div class=\"sk-estimator sk-toggleable\"><input class=\"sk-toggleable__control sk-hidden--visually\" id=\"sk-estimator-id-27\" type=\"checkbox\" ><label for=\"sk-estimator-id-27\" class=\"sk-toggleable__label sk-toggleable__label-arrow\">MultinomialNB</label><div class=\"sk-toggleable__content\"><pre>MultinomialNB()</pre></div></div></div></div></div></div></div>"
      ],
      "text/plain": [
       "Pipeline(steps=[('counts',\n",
       "                 CountVectorizer(tokenizer=<function <lambda> at 0x000001A3E6429FC0>)),\n",
       "                ('classifier', MultinomialNB())])"
      ]
     },
     "execution_count": 160,
     "metadata": {},
     "output_type": "execute_result"
    }
   ],
   "source": [
    "neg_pipeline.fit(texto, classificacao)"
   ]
  },
  {
   "cell_type": "code",
   "execution_count": 161,
   "id": "878ebca2-7516-41c1-a905-6357316d63a2",
   "metadata": {},
   "outputs": [
    {
     "data": {
      "text/plain": [
       "[('counts',\n",
       "  CountVectorizer(tokenizer=<function <lambda> at 0x000001A3E6429FC0>)),\n",
       " ('classifier', MultinomialNB())]"
      ]
     },
     "execution_count": 161,
     "metadata": {},
     "output_type": "execute_result"
    }
   ],
   "source": [
    "neg_pipeline.steps"
   ]
  },
  {
   "cell_type": "code",
   "execution_count": 162,
   "id": "e794267e-6b8b-44a5-851f-4075704732c1",
   "metadata": {},
   "outputs": [],
   "source": [
    "simple_pipeline = Pipeline([('counts', CountVectorizer()), ('classifier', svm.SVC(kernel='linear'))])"
   ]
  },
  {
   "cell_type": "code",
   "execution_count": 163,
   "id": "d50a8f7b-2fdb-4c98-aae2-412c7558414f",
   "metadata": {},
   "outputs": [],
   "source": [
    "neg_pipeline = Pipeline([('counts', CountVectorizer(tokenizer=lambda text: add_neg(text))), ('classifier', svm.SVC(kernel='linear'))])"
   ]
  },
  {
   "cell_type": "code",
   "execution_count": 164,
   "id": "8fbce864-6bc9-44ec-893a-b9304793d4a9",
   "metadata": {},
   "outputs": [],
   "source": [
    "simple_res = cross_val_predict(simple_pipeline, texto, classificacao, cv=10)"
   ]
  },
  {
   "cell_type": "code",
   "execution_count": 165,
   "id": "ed039687-3a71-44f0-99cb-f6f58fe6f24d",
   "metadata": {},
   "outputs": [
    {
     "name": "stdout",
     "output_type": "stream",
     "text": [
      "              precision    recall  f1-score   support\n",
      "\n",
      "    Negativo       0.93      0.95      0.94      4010\n",
      "      Neutro       0.26      0.20      0.23       804\n",
      "    Positivo       0.79      0.82      0.81      3206\n",
      "\n",
      "    accuracy                           0.82      8020\n",
      "   macro avg       0.66      0.66      0.66      8020\n",
      "weighted avg       0.81      0.82      0.82      8020\n",
      "\n"
     ]
    }
   ],
   "source": [
    "sentimento = ['Positivo', 'Negativo', 'Neutro']\n",
    "print(metrics.classification_report(classificacao, simple_res))"
   ]
  },
  {
   "cell_type": "code",
   "execution_count": 166,
   "id": "0c3913cd-33c0-432c-9f65-8eb0ca8c06a7",
   "metadata": {},
   "outputs": [
    {
     "name": "stdout",
     "output_type": "stream",
     "text": [
      "              precision    recall  f1-score   support\n",
      "\n",
      "    Negativo       0.78      0.86      0.82      4010\n",
      "      Neutro       0.33      0.00      0.00       804\n",
      "    Positivo       0.69      0.77      0.73      3206\n",
      "\n",
      "    accuracy                           0.74      8020\n",
      "   macro avg       0.60      0.55      0.52      8020\n",
      "weighted avg       0.70      0.74      0.70      8020\n",
      "\n"
     ]
    }
   ],
   "source": [
    "print(metrics.classification_report(classificacao, neg_res))"
   ]
  },
  {
   "cell_type": "code",
   "execution_count": 167,
   "id": "ef23fdd4-f88e-4665-ae6e-b69ce797cbe4",
   "metadata": {},
   "outputs": [
    {
     "name": "stdout",
     "output_type": "stream",
     "text": [
      "Predito   Negativo  Neutro  Positivo   All\n",
      "Real                                      \n",
      "Negativo      3467       2       541  4010\n",
      "Neutro         246       2       556   804\n",
      "Positivo       741       2      2463  3206\n",
      "All           4454       6      3560  8020\n"
     ]
    }
   ],
   "source": [
    "print (pd.crosstab(classificacao, neg_res, rownames=['Real'], colnames=['Predito'], margins=True))"
   ]
  },
  {
   "cell_type": "code",
   "execution_count": 168,
   "id": "4b3875c5-d7bc-4d49-b07c-a5c271fcc5be",
   "metadata": {},
   "outputs": [
    {
     "name": "stdout",
     "output_type": "stream",
     "text": [
      "              precision    recall  f1-score   support\n",
      "\n",
      "    Negativo       0.95      0.97      0.96      4010\n",
      "      Neutro       0.25      0.02      0.03       804\n",
      "    Positivo       0.79      0.95      0.86      3206\n",
      "\n",
      "    accuracy                           0.86      8020\n",
      "   macro avg       0.66      0.64      0.62      8020\n",
      "weighted avg       0.81      0.86      0.82      8020\n",
      "\n"
     ]
    }
   ],
   "source": [
    "sentimento = ['Positivo', 'Negativo', 'Neutro']\n",
    "print(metrics.classification_report(classificacao, unigram_results))"
   ]
  },
  {
   "cell_type": "code",
   "execution_count": 169,
   "id": "cb4e9b9e-ed19-4fbf-b073-2f71a8f50d51",
   "metadata": {},
   "outputs": [
    {
     "name": "stdout",
     "output_type": "stream",
     "text": [
      "              precision    recall  f1-score   support\n",
      "\n",
      "    Negativo       0.95      0.90      0.93      4010\n",
      "      Neutro       0.14      0.07      0.09       804\n",
      "    Positivo       0.77      0.92      0.84      3206\n",
      "\n",
      "    accuracy                           0.83      8020\n",
      "   macro avg       0.62      0.63      0.62      8020\n",
      "weighted avg       0.80      0.83      0.81      8020\n",
      "\n"
     ]
    }
   ],
   "source": [
    "sentimento = ['Positivo', 'Negativo', 'Neutro']\n",
    "print(metrics.classification_report(classificacao, bigram_results))"
   ]
  },
  {
   "cell_type": "raw",
   "id": "62a3dfd5-7b08-459f-ae24-53ddf8a809be",
   "metadata": {},
   "source": [
    "#Predicoes unigram\n",
    "\n",
    "- 3876 de 4010 Negativos - 0,966\n",
    "- 15 de 804 Neutros - 0,018\n",
    "- 3034 de 3206 Positivos - 0,946"
   ]
  },
  {
   "cell_type": "code",
   "execution_count": 170,
   "id": "40952d62-6539-4e82-8773-7a15cfd48732",
   "metadata": {},
   "outputs": [
    {
     "name": "stdout",
     "output_type": "stream",
     "text": [
      "Predito   Negativo  Neutro  Positivo   All\n",
      "Real                                      \n",
      "Negativo      3876      23       111  4010\n",
      "Neutro          76      15       713   804\n",
      "Positivo       149      23      3034  3206\n",
      "All           4101      61      3858  8020\n"
     ]
    }
   ],
   "source": [
    "print(pd.crosstab(classificacao, unigram_results, rownames=['Real'], colnames=['Predito'], margins=True))"
   ]
  },
  {
   "cell_type": "markdown",
   "id": "dca56d91-7952-47cf-9702-5acb925c38cd",
   "metadata": {},
   "source": [
    "#Predicoes unigram\n",
    "\n",
    "- 3876 de 4010 Negativos - 0,966\n",
    "- 15 de 804 Neutros - 0,018\n",
    "- 3034 de 3206 Positivos - 0,946"
   ]
  },
  {
   "cell_type": "code",
   "execution_count": 171,
   "id": "57dc0a48-34f8-4dc0-870e-8b570e15917b",
   "metadata": {},
   "outputs": [
    {
     "name": "stdout",
     "output_type": "stream",
     "text": [
      "Predito   Negativo  Neutro  Positivo   All\n",
      "Real                                      \n",
      "Negativo      3622     191       197  4010\n",
      "Neutro          79      55       670   804\n",
      "Positivo       106     156      2944  3206\n",
      "All           3807     402      3811  8020\n"
     ]
    }
   ],
   "source": [
    "print(pd.crosstab(classificacao, bigram_results, rownames=['Real'], colnames=['Predito'], margins=True))"
   ]
  },
  {
   "cell_type": "code",
   "execution_count": 177,
   "id": "c74d1592-9e81-4fd7-a8fd-7b2ffdf8b23b",
   "metadata": {},
   "outputs": [
    {
     "name": "stdin",
     "output_type": "stream",
     "text": [
      "insira sua frase para teste:  eu odeio viver\n"
     ]
    },
    {
     "name": "stdout",
     "output_type": "stream",
     "text": [
      "\n",
      "\n",
      "Unigram Result\n",
      "eu odeio viver || Positivo\n",
      "\n",
      "\n",
      "Bigram Result\n",
      "eu odeio viver || Negativo\n"
     ]
    }
   ],
   "source": [
    "live_test = []\n",
    "user_input = input('insira sua frase para teste: ')\n",
    "live_test.append(user_input)\n",
    "print('\\n')\n",
    "unigram_live = unigram_vectorizer.transform(live_test)\n",
    "bigram_live = bigram_vectorizer.transform(live_test)\n",
    "\n",
    "print('Unigram Result')\n",
    "for t, c in zip(live_test, unigram_model.predict(unigram_live)):\n",
    "    print(f'{t} || {c}')\n",
    "print('\\n')\n",
    "print('Bigram Result')\n",
    "for t, c in zip(live_test, bigram_model.predict(bigram_live)):\n",
    "    print(f'{t} || {c}')"
   ]
  },
  {
   "cell_type": "code",
   "execution_count": null,
   "id": "739ca311-db7d-4e8c-9e0e-1af9fde84838",
   "metadata": {},
   "outputs": [],
   "source": []
  }
 ],
 "metadata": {
  "kernelspec": {
   "display_name": "Python 3 (ipykernel)",
   "language": "python",
   "name": "python3"
  },
  "language_info": {
   "codemirror_mode": {
    "name": "ipython",
    "version": 3
   },
   "file_extension": ".py",
   "mimetype": "text/x-python",
   "name": "python",
   "nbconvert_exporter": "python",
   "pygments_lexer": "ipython3",
   "version": "3.10.7"
  }
 },
 "nbformat": 4,
 "nbformat_minor": 5
}
